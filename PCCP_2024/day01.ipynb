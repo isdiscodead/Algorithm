{
 "cells": [
  {
   "cell_type": "markdown",
   "metadata": {},
   "source": [
    "## 입출력과 자료형"
   ]
  },
  {
   "cell_type": "code",
   "execution_count": 9,
   "metadata": {},
   "outputs": [
    {
     "name": "stdout",
     "output_type": "stream",
     "text": [
      "1 4301285680\n"
     ]
    }
   ],
   "source": [
    "a = 1\n",
    "b = 2\n",
    "print(a, id(a))"
   ]
  },
  {
   "cell_type": "code",
   "execution_count": 10,
   "metadata": {},
   "outputs": [
    {
     "name": "stdout",
     "output_type": "stream",
     "text": [
      "2 1\n"
     ]
    }
   ],
   "source": [
    "a, b = b, a\n",
    "print(a, b)"
   ]
  },
  {
   "cell_type": "code",
   "execution_count": 11,
   "metadata": {},
   "outputs": [
    {
     "name": "stdout",
     "output_type": "stream",
     "text": [
      "2024.05.27 2024 05 27\n"
     ]
    }
   ],
   "source": [
    "strDate = input(\"날짜 입력 형싱 yyyy.mm.dd >> \")\n",
    "y, m, d = strDate.split('.')\n",
    "print(strDate, y, m, d)"
   ]
  },
  {
   "cell_type": "code",
   "execution_count": 12,
   "metadata": {},
   "outputs": [
    {
     "name": "stdout",
     "output_type": "stream",
     "text": [
      "2 3 10\n"
     ]
    }
   ],
   "source": [
    "a, b, c = map(int, input().split(\" \"))\n",
    "print(a, b, c)"
   ]
  },
  {
   "cell_type": "code",
   "execution_count": 13,
   "metadata": {},
   "outputs": [
    {
     "name": "stdout",
     "output_type": "stream",
     "text": [
      "20 30 40 <class 'str'>\n",
      "['20', '30', '40'] <class 'list'>\n",
      "<map object at 0x103f6c670> <class 'map'>\n"
     ]
    }
   ],
   "source": [
    "nums = input()\n",
    "print(nums, type(nums))\n",
    "\n",
    "splited_nums = nums.split()\n",
    "print(splited_nums, type(splited_nums))\n",
    "\n",
    "splited_int_nums = map(int, nums.split())\n",
    "print( splited_int_nums, type(splited_int_nums))"
   ]
  },
  {
   "cell_type": "markdown",
   "metadata": {},
   "source": [
    "### List"
   ]
  },
  {
   "cell_type": "code",
   "execution_count": 16,
   "metadata": {},
   "outputs": [
    {
     "name": "stdout",
     "output_type": "stream",
     "text": [
      "[9, 2, 3] [9, 2, 3]\n"
     ]
    }
   ],
   "source": [
    "a = [1, 2, 3]\n",
    "b = a\n",
    "a[0] = 9\n",
    "\n",
    "print(a, b)"
   ]
  },
  {
   "cell_type": "code",
   "execution_count": 17,
   "metadata": {},
   "outputs": [
    {
     "data": {
      "text/plain": [
       "[0, 0, 0]"
      ]
     },
     "execution_count": 17,
     "metadata": {},
     "output_type": "execute_result"
    }
   ],
   "source": [
    "lst1 = []\n",
    "lst1 = [0]*3\n",
    "lst1"
   ]
  },
  {
   "cell_type": "code",
   "execution_count": 18,
   "metadata": {},
   "outputs": [
    {
     "data": {
      "text/plain": [
       "[5, 4, 3, 2, 1]"
      ]
     },
     "execution_count": 18,
     "metadata": {},
     "output_type": "execute_result"
    }
   ],
   "source": [
    "lst1 = [1, 2, 3, 4, 5]\n",
    "lst1[::-1]"
   ]
  },
  {
   "cell_type": "code",
   "execution_count": null,
   "metadata": {},
   "outputs": [],
   "source": [
    "lstColor = [\"red\", \"orange\", \"green\"]\n",
    "lstFruit = [\"orange\", \"mango\", \"apple\"]\n",
    "\n",
    "print(\"--- 리스트 더하기 ---\")\n",
    "print(lstColor + lstFruit)\n",
    "\n",
    "print(\"--- 리스트 곱하기 ---\")\n",
    "print(lstColor * 2)\n",
    "\n",
    "print(\"--- 리스트 길이 구하기 ---\")\n",
    "print(len(lstColor))"
   ]
  },
  {
   "cell_type": "markdown",
   "metadata": {},
   "source": [
    "#### List 연산"
   ]
  },
  {
   "cell_type": "markdown",
   "metadata": {},
   "source": [
    "삭제는 `del 연산자`나 `.pop(위치값)` 사용"
   ]
  },
  {
   "cell_type": "code",
   "execution_count": 19,
   "metadata": {},
   "outputs": [
    {
     "name": "stdout",
     "output_type": "stream",
     "text": [
      "[10, 20, 30, [40, 50]]\n",
      "[10, 20, 30, 40, 50]\n",
      "[10, 20, 30, 40, 50, '고', '양', '이']\n"
     ]
    }
   ],
   "source": [
    "# .append() -> 뒤에 하나의 원소를 추가\n",
    "a = [10, 20, 30]\n",
    "b = [40, 50]\n",
    "a.append(b)\n",
    "print(a)\n",
    "\n",
    "# .extend() -> 뒤에 낱개로 추가\n",
    "a = [10, 20, 30]\n",
    "b = [40, 50]\n",
    "a.extend(b)\n",
    "print(a)\n",
    "a.extend(\"고양이\")\n",
    "print(a)\n"
   ]
  },
  {
   "cell_type": "code",
   "execution_count": 23,
   "metadata": {},
   "outputs": [
    {
     "name": "stdout",
     "output_type": "stream",
     "text": [
      "[1, 3, 27, 42, 68]\n",
      "[68, 42, 27, 3, 1]\n"
     ]
    }
   ],
   "source": [
    "x = [42, 3, 68, 1, 27]\n",
    "x.sort() # 오름차순 정렬\n",
    "print(x)\n",
    "x.sort(reverse=True) # 내림차순 정렬\n",
    "print(x)"
   ]
  },
  {
   "cell_type": "code",
   "execution_count": 25,
   "metadata": {},
   "outputs": [
    {
     "name": "stdout",
     "output_type": "stream",
     "text": [
      "[123, 5, 1, 12, 40, 30]\n",
      "[123, 5, 1, 12, 40, 30]\n"
     ]
    }
   ],
   "source": [
    "lst7 = [30, 40, 12, 1, 5, 123]\n",
    "print(lst7[::-1]) # 슬라이싱 ( 역순 )\n",
    "\n",
    "lst7.reverse()\n",
    "print(lst7)"
   ]
  },
  {
   "cell_type": "markdown",
   "metadata": {},
   "source": [
    "### Dictionary"
   ]
  },
  {
   "cell_type": "code",
   "execution_count": 27,
   "metadata": {},
   "outputs": [
    {
     "name": "stdout",
     "output_type": "stream",
     "text": [
      "{'name': '홍길동', 'likeNum': 2, 'height': 172.8} <class 'dict'>\n",
      "{'name': '김길동', 'likeNum': 2, 'height': 172.8}\n",
      "{'name': '김길동', 'likeNum': 2, 'height': 172.8, 'hobby': '독서'}\n",
      "{'name': '김길동', 'likeNum': 2, 'hobby': '독서'}\n",
      "{'name': '김길동', 'likeNum': 2, 'hobby': '독서', 'height': 170}\n",
      "170\n",
      "('hobby', '독서')\n",
      "keys =  dict_keys(['name', 'likeNum'])\n",
      "values =  dict_values(['김길동', 2])\n",
      "items =  dict_items([('name', '김길동'), ('likeNum', 2)])\n",
      "key list =  ['name', 'likeNum']\n"
     ]
    }
   ],
   "source": [
    "myInfo = {\"name\":\"홍길동\", \"likeNum\":2, \"height\":172.8}\n",
    "\n",
    "print(myInfo, type(myInfo))\n",
    "myInfo[\"name\"]\n",
    "\n",
    "myInfo[\"name\"] = \"김길동\"\n",
    "print(myInfo)\n",
    "\n",
    "# 추가 및 수정 : 키값이 있을 때는 수정, 없을 때는 추가\n",
    "myInfo[\"hobby\"] = \"독서\"\n",
    "print(myInfo)\n",
    "\n",
    "# 삭제\n",
    "del myInfo[\"height\"]\n",
    "print(myInfo)\n",
    "\n",
    "myInfo[\"height\"] = 170\n",
    "print(myInfo)\n",
    "print(myInfo.pop(\"height\"))\n",
    "print(myInfo.popitem())\n",
    "\n",
    "\n",
    "# myInfo[\"names\"] # 없는 키값으로 접근할때는 keyError\n",
    "\n",
    "print(\"keys = \", myInfo.keys())\n",
    "print(\"values = \", myInfo.values())\n",
    "print(\"items = \", myInfo.items())\n",
    "\n",
    "# 리스트타입 변환\n",
    "lstKeys = list(myInfo.keys())\n",
    "print(\"key list = \", lstKeys)"
   ]
  },
  {
   "cell_type": "code",
   "execution_count": 28,
   "metadata": {},
   "outputs": [
    {
     "name": "stdout",
     "output_type": "stream",
     "text": [
      "hyejung\n",
      "발견하지 못함\n"
     ]
    }
   ],
   "source": [
    "# 직접 접근과 다르게 없어도 에러가 발생하지 않으\n",
    "# 기본 값을 지정하지 않으면 찾지 못하는 경우 None을 반환\n",
    "user_info = {'name': 'hyejung'}\n",
    "print(user_info.get('name'))\n",
    "print(user_info.get('age', '발견하지 못함')) # 발견하지 못함"
   ]
  },
  {
   "cell_type": "markdown",
   "metadata": {},
   "source": [
    "### Set\n",
    "\n",
    "- 순서가 없어서 인덱스 X\n",
    "- 자료 중복 허용 X"
   ]
  },
  {
   "cell_type": "code",
   "execution_count": 29,
   "metadata": {},
   "outputs": [
    {
     "name": "stdout",
     "output_type": "stream",
     "text": [
      "[3, 3, 4, 5, 6]\n",
      "{3, 4, 5, 6}\n",
      "[3, 4, 5, 6]\n"
     ]
    }
   ],
   "source": [
    "lst1 = [3,3,4,5,6]\n",
    "print(lst1)\n",
    "\n",
    "print(set(lst1))\n",
    "print(list(set(lst1)))"
   ]
  },
  {
   "cell_type": "code",
   "execution_count": 30,
   "metadata": {},
   "outputs": [
    {
     "name": "stdout",
     "output_type": "stream",
     "text": [
      "교집합\n",
      "{8, 3}\n",
      "합집합\n",
      "{1, 2, 3, 5, 6, 7, 8, 9}\n",
      "차집합\n",
      "{1, 5, 9, 7}\n",
      "대칭차집합: 합집합-교집합\n",
      "{1, 2, 5, 6, 7, 9}\n",
      "\n",
      "union(합집합) =  {1, 2, 3, 5, 6, 7, 8, 9}\n",
      "intersection(교집합) =  {8, 3}\n",
      "difference(차집합) =  {1, 5, 9, 7}\n",
      "symmetric_difference(대칭차집합) =  {1, 2, 5, 6, 7, 9}\n"
     ]
    }
   ],
   "source": [
    "# 집합 연산\n",
    "st1 = {1,3,5,7,8,9}\n",
    "st2 = {2,3,6,8}\n",
    "\n",
    "print(\"교집합\")\n",
    "print(st1 & st2)\n",
    "\n",
    "print(\"합집합\")\n",
    "print(st1 | st2)\n",
    "\n",
    "print(\"차집합\")\n",
    "print(st1 - st2)\n",
    "\n",
    "print(\"대칭차집합: 합집합-교집합\")\n",
    "print(st1 ^ st2, end=\"\\n\\n\") # \\n 줄바꿈(enter)\n",
    "\n",
    "print(\"union(합집합) = \", st1.union(st2)) #합집합\n",
    "print(\"intersection(교집합) = \", st1.intersection(st2)) #교집합\n",
    "print(\"difference(차집합) = \", st1.difference(st2)) #차집합\n",
    "print(\"symmetric_difference(대칭차집합) = \", st1.symmetric_difference(st2)) #대칭차집합\n"
   ]
  },
  {
   "cell_type": "code",
   "execution_count": 32,
   "metadata": {},
   "outputs": [
    {
     "name": "stdout",
     "output_type": "stream",
     "text": [
      "{'New York', 'Seoul', 'Tokyo'}\n"
     ]
    }
   ],
   "source": [
    "cities = {'Seoul', 'New York'}\n",
    "cities.add('Tokyo')\n",
    "print(cities) # {'Seoul', 'New York', 'Tokyo'}\n",
    "\n",
    "# 리스트 등과 같은 unhashable type은 추가할 수 없습니다.\n",
    "# cities.add([1]) # TypeError: unhashable type: 'list'"
   ]
  },
  {
   "cell_type": "code",
   "execution_count": 33,
   "metadata": {},
   "outputs": [
    {
     "name": "stdout",
     "output_type": "stream",
     "text": [
      "{'New York'}\n"
     ]
    }
   ],
   "source": [
    "cities = {'Seoul', 'New York'}\n",
    "cities.remove('Seoul') # 없는 경우 KeyError 발생\n",
    "cities.discard('Paris') # 없어도 에러가 발생하지 않음\n",
    "print(cities) # {'New York'}"
   ]
  },
  {
   "cell_type": "code",
   "execution_count": 34,
   "metadata": {},
   "outputs": [
    {
     "name": "stdout",
     "output_type": "stream",
     "text": [
      "{'New York'}\n"
     ]
    }
   ],
   "source": [
    "cities = {'Seoul', 'New York'}\n",
    "cities.remove('Seoul') # 없는 경우 KeyError 발생\n",
    "cities.discard('Paris') # 없어도 에러가 발생하지 않음\n",
    "print(cities) # {'New York'}"
   ]
  },
  {
   "cell_type": "code",
   "execution_count": 35,
   "metadata": {},
   "outputs": [
    {
     "name": "stdout",
     "output_type": "stream",
     "text": [
      "{'New York', 'Seoul', 'London', 'Paris'}\n"
     ]
    }
   ],
   "source": [
    "# 순서는 보장하지 않음\n",
    "cities = {'Seoul', 'New York'}\n",
    "cities.update(['Paris', 'London'])\n",
    "print(cities) # {'London', 'Paris', 'Seoul', 'New York'} "
   ]
  },
  {
   "cell_type": "markdown",
   "metadata": {},
   "source": [
    "### Tuple"
   ]
  },
  {
   "cell_type": "code",
   "execution_count": 38,
   "metadata": {},
   "outputs": [
    {
     "name": "stdout",
     "output_type": "stream",
     "text": [
      "(1, 2, 3) <class 'tuple'>\n",
      "(1, 2, 3) <class 'tuple'>\n",
      "10 <class 'int'>\n",
      "(10,) <class 'tuple'>\n"
     ]
    },
    {
     "ename": "TypeError",
     "evalue": "'tuple' object does not support item assignment",
     "output_type": "error",
     "traceback": [
      "\u001b[0;31m---------------------------------------------------------------------------\u001b[0m",
      "\u001b[0;31mTypeError\u001b[0m                                 Traceback (most recent call last)",
      "Cell \u001b[0;32mIn[38], line 12\u001b[0m\n\u001b[1;32m      9\u001b[0m \u001b[38;5;28mprint\u001b[39m(t3, \u001b[38;5;28mtype\u001b[39m(t3))\n\u001b[1;32m     10\u001b[0m \u001b[38;5;28mprint\u001b[39m(t4, \u001b[38;5;28mtype\u001b[39m(t4))\n\u001b[0;32m---> 12\u001b[0m \u001b[43mt1\u001b[49m\u001b[43m[\u001b[49m\u001b[38;5;241;43m0\u001b[39;49m\u001b[43m]\u001b[49m \u001b[38;5;241m=\u001b[39m \u001b[38;5;241m2\u001b[39m \u001b[38;5;66;03m#튜플은 읽기전용, 수정x\u001b[39;00m\n",
      "\u001b[0;31mTypeError\u001b[0m: 'tuple' object does not support item assignment"
     ]
    }
   ],
   "source": [
    "# 리스트와 동일하나 수정 안됨.(수정 메서드도 안됨)\n",
    "t1 = (1,2,3)\n",
    "t2 = 1,2,3\n",
    "t3 = (10) # 괄호로 선언했으나 1개일 경우 int로 저장\n",
    "t4 = (10,)# 1개 추가 시, 끝에 콤마(,) 표시\n",
    "\n",
    "print(t1, type(t1))\n",
    "print(t2, type(t2))\n",
    "print(t3, type(t3))\n",
    "print(t4, type(t4))\n",
    "\n",
    "t1[0] = 2 #튜플은 읽기전용, 수정x"
   ]
  },
  {
   "cell_type": "markdown",
   "metadata": {},
   "source": [
    "### 집합 자료형 method"
   ]
  },
  {
   "cell_type": "markdown",
   "metadata": {},
   "source": [
    "#### enumerate() "
   ]
  },
  {
   "cell_type": "code",
   "execution_count": 39,
   "metadata": {},
   "outputs": [
    {
     "name": "stdout",
     "output_type": "stream",
     "text": [
      "(0, 45) <class 'tuple'>\n",
      "(1, 12) <class 'tuple'>\n",
      "(2, 50) <class 'tuple'>\n",
      "(3, 4) <class 'tuple'>\n",
      "(4, 1) <class 'tuple'>\n",
      "(5, 17) <class 'tuple'>\n",
      "0 45 <class 'int'>\n",
      "1 12 <class 'int'>\n",
      "2 50 <class 'int'>\n",
      "3 4 <class 'int'>\n",
      "4 1 <class 'int'>\n",
      "5 17 <class 'int'>\n",
      "0 45 <class 'int'>\n",
      "1 12 <class 'int'>\n",
      "2 50 <class 'int'>\n",
      "3 4 <class 'int'>\n",
      "4 1 <class 'int'>\n",
      "5 17 <class 'int'>\n",
      "0 45 <class 'int'>\n",
      "1 12 <class 'int'>\n",
      "2 50 <class 'int'>\n",
      "3 4 <class 'int'>\n",
      "4 1 <class 'int'>\n",
      "5 17 <class 'int'>\n",
      "0 45 <class 'int'>\n",
      "1 12 <class 'int'>\n",
      "2 50 <class 'int'>\n",
      "3 4 <class 'int'>\n",
      "4 1 <class 'int'>\n",
      "5 17 <class 'int'>\n"
     ]
    }
   ],
   "source": [
    "# enumerate()\n",
    "\n",
    "# 리스트변수명 = [요소1, 요소2....]\n",
    "# 리스트 읽어서 인덱스와 값을 튜플형태로 가지고 온다.\n",
    "\n",
    "a=[45,12,50,4,1,17]\n",
    "\n",
    "for i in enumerate(a):\n",
    "    print(i, type(i))\n",
    "\n",
    "for i in enumerate(a):\n",
    "    print(i[0],i[1], type(i[0]))\n",
    "    \n",
    "for index, value in enumerate(a):\n",
    "    print(index, value, type(index))\n",
    "\n",
    "\n",
    "for i in enumerate(a):\n",
    "    print(i[0],i[1], type(i[0]))\n",
    "    \n",
    "for index, value in enumerate(a):\n",
    "    print(index, value, type(index))"
   ]
  },
  {
   "cell_type": "markdown",
   "metadata": {},
   "source": [
    "#### range(start, end, step)"
   ]
  },
  {
   "cell_type": "code",
   "execution_count": 40,
   "metadata": {},
   "outputs": [
    {
     "name": "stdout",
     "output_type": "stream",
     "text": [
      "0 1 2 3 \n",
      "7 6 5 4 3 2 \n",
      "1 3 5 [3, 4, 5, 6]\n"
     ]
    }
   ],
   "source": [
    "for i in range(4): # 지정하지 않는 경우 0부터 시작\n",
    "    print(i, end=' ')  \n",
    "print()\n",
    "\n",
    "# 0 1 2 3\n",
    "\n",
    "for j in range(7, 1, -1):  # -를 통해 역순으로 뽑을 수 있음\n",
    "    print(j, end=' ')\n",
    "print()\n",
    "\n",
    "# 7 6 5 4 3 2\n",
    "\n",
    "for k in range(1, 7, 2):  # 2칸씩 띄고 가능\n",
    "    print(k, end=' ')\n",
    "    \n",
    "# 리스트화\n",
    "print(list(range(3, 7))) # [3, 4, 5, 6]"
   ]
  },
  {
   "cell_type": "markdown",
   "metadata": {},
   "source": [
    "#### zip()"
   ]
  },
  {
   "cell_type": "code",
   "execution_count": 43,
   "metadata": {},
   "outputs": [
    {
     "name": "stdout",
     "output_type": "stream",
     "text": [
      "(1, 'sugar') <class 'tuple'>\n",
      "(2, 'spice') <class 'tuple'>\n",
      "(3, 'nice') <class 'tuple'>\n",
      "<class 'zip'>\n",
      "<zip object at 0x10481ce00>\n",
      "[('a', 'i', '1'), ('b', 'j', '2'), ('c', 'k', '3')] <class 'list'>\n",
      "(('1', 'i'), ('2', 'j'), ('3', 'k'), ('4', 'l')) <class 'tuple'>\n",
      "('a', 'i', '1')\n",
      "('b', 'j', '2')\n",
      "('c', 'k', '3')\n",
      "(1, 'kim', 4.3)\n",
      "(2, 'lee', 2.8)\n",
      "(3, 'park', 4.0)\n",
      "(4, 'hong', 3.1)\n",
      "(5, 'yun', 3.45)\n",
      "[('a', 1), ('b', 2), ('c', 3)] <class 'list'>\n",
      "('a', 'b', 'c') <class 'tuple'>\n",
      "(1, 2, 3) <class 'tuple'>\n"
     ]
    }
   ],
   "source": [
    "\n",
    "for item in zip([1,2,3],['sugar','spice','nice']):\n",
    "    print(item, type(item))\n",
    "\n",
    "x = ['a','b','c']\n",
    "y = ['i','j','k','l']\n",
    "z = '12345'\n",
    "\n",
    "k = zip(x,y,z)\n",
    "print(type(k))\n",
    "print(k)\n",
    "print(list(zip(x, y, z)), type(list(zip(x, y, z))))\n",
    "print(tuple(zip(z,y)), type(tuple(zip(z,y))))\n",
    "\n",
    "\n",
    "for t in zip(x, y, z):\n",
    "    print(t)\n",
    "    \n",
    "    \n",
    "number = [1, 2, 3, 4, 5]\n",
    "name = ['kim', 'lee','park','hong','yun']\n",
    "grade = [4.3, 2.8, 4.0, 3.1, 3.45]\n",
    "for result in zip(number, name, grade):\n",
    "    print(result)\n",
    "    \n",
    "# 시퀀스형 언패킹 연산자 *: unzip\n",
    "k = [('a',1), ('b',2),('c',3)]\n",
    "x, y = zip(*k)\n",
    "print(k, type(k))\n",
    "print(x, type(x))\n",
    "print(y, type(y))"
   ]
  },
  {
   "cell_type": "code",
   "execution_count": 45,
   "metadata": {},
   "outputs": [
    {
     "name": "stdout",
     "output_type": "stream",
     "text": [
      "[(1, 4), (2, 5), (3, 6)]\n",
      "[(1, 4, 7), (2, 5, 8), (3, 6, 9)]\n",
      "[(1, 5, 7), (2, 6, 8)]\n",
      "{0: 0, 1: 0, 2: 0}\n"
     ]
    }
   ],
   "source": [
    "# 세로로 잡은 결과 --> 튜플로 zip 객체 생성 => 리스트로 변경\n",
    "a = [1, 2, 3]\n",
    "b = [4, 5, 6]\n",
    "print(list(zip(a, b))) # [(1, 4), (2, 5), (3, 6)]\n",
    "\n",
    "# 더 여러개도 잡아서 \n",
    "a = [1, 2, 3]\n",
    "b = [4, 5, 6]\n",
    "c = [7, 8, 9]\n",
    "print(list(zip(a, b, c))) # [(1, 4, 7), (2, 5, 8), (3, 6, 9)]\n",
    "\n",
    "# 길이가 다르다면 최소값에 맞춰서\n",
    "a = [1, 2, 3, 4]\n",
    "b = [5, 6]\n",
    "c = [7, 8, 9, 10]\n",
    "print(list(zip(a, b, c))) # [(1, 5, 7), (2, 6, 8)]\n",
    "\n",
    "# 이런것도 가능합니다. 레인지와 리스트를 잡아서 딕셔너리 형태로 제작\n",
    "print(dict(zip(range(3), [0]*3))) # {0: 0, 1: 0, 2: 0}"
   ]
  },
  {
   "cell_type": "code",
   "execution_count": null,
   "metadata": {},
   "outputs": [],
   "source": []
  }
 ],
 "metadata": {
  "kernelspec": {
   "display_name": "Python 3",
   "language": "python",
   "name": "python3"
  },
  "language_info": {
   "codemirror_mode": {
    "name": "ipython",
    "version": 3
   },
   "file_extension": ".py",
   "mimetype": "text/x-python",
   "name": "python",
   "nbconvert_exporter": "python",
   "pygments_lexer": "ipython3",
   "version": "3.9.6"
  }
 },
 "nbformat": 4,
 "nbformat_minor": 2
}
