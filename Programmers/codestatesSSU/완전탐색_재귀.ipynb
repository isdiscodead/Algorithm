{
  "nbformat": 4,
  "nbformat_minor": 0,
  "metadata": {
    "colab": {
      "provenance": []
    },
    "kernelspec": {
      "name": "python3",
      "display_name": "Python 3"
    },
    "language_info": {
      "name": "python"
    }
  },
  "cells": [
    {
      "cell_type": "code",
      "source": [
        "# 10의 약수의 합을 구하자\n",
        "\n",
        "number = 10\n",
        "sum = 0\n",
        "\n",
        "for i in range(1, number + 1) :\n",
        "    if number % i == 0:\n",
        "      sum += i\n",
        "\n",
        "print(sum)"
      ],
      "metadata": {
        "colab": {
          "base_uri": "https://localhost:8080/"
        },
        "id": "yQzrht3H5ifI",
        "outputId": "98d0dd13-b66b-4662-cbf5-2b2629189a06"
      },
      "execution_count": null,
      "outputs": [
        {
          "output_type": "stream",
          "name": "stdout",
          "text": [
            "18\n"
          ]
        }
      ]
    },
    {
      "cell_type": "code",
      "source": [
        "change = 120\n",
        "ways = 0\n",
        "\n",
        "#최솟값 담는 변수\n",
        "min_count = float('inf')\n",
        "\n",
        "# 50원을 이용하는 방법이랑 10원을 이용하는 방법을 어떻게 순회할 수 있는가? (2중 for문)\n",
        "\n",
        "#change를 50으로 나눈 몫만큼 반복\n",
        "for i in range(change // 50 + 1):\n",
        "  #change를 10으로 나눈 몫만큼 반복\n",
        "  for j in range(change // 10 + 1):\n",
        "    if i * 50 + j * 10 == change:\n",
        "      #경우의 수\n",
        "      ways += 1\n",
        "      #동전의 최소\n",
        "      if min_count > i + j:\n",
        "        min_count = i + j\n",
        "\n",
        "print(\"Ways:\", ways)\n",
        "print(\"Minimum:\", min_count)\n"
      ],
      "metadata": {
        "colab": {
          "base_uri": "https://localhost:8080/"
        },
        "id": "7ocxuvnz_55K",
        "outputId": "7e69e384-a89a-4b29-cb6a-af41c38f3f0c"
      },
      "execution_count": null,
      "outputs": [
        {
          "output_type": "stream",
          "name": "stdout",
          "text": [
            "Ways: 3\n",
            "Minimum: 4\n"
          ]
        }
      ]
    },
    {
      "cell_type": "code",
      "source": [
        "# A, B, C 세 가지를 가지고 그 중 3개를 뽑아서 중복 순열을 만든다\n",
        "\n",
        "# 먼저 자료를 선형으로 구조화를 시킵니다. (배열)\n",
        "lookup = [\"A\", \"B\", \"C\"]\n",
        "result = []\n",
        "\n",
        "# 적절한 방법으로 어떻게 전부 다 탐색을 하는가? (for문 -> 3중 for문)\n",
        "for i in range(3):\n",
        "  for j in range(3):\n",
        "    for k in range(3):\n",
        "      result.append([lookup[i], lookup[j], lookup[k]])\n",
        "\n",
        "print(result)"
      ],
      "metadata": {
        "colab": {
          "base_uri": "https://localhost:8080/"
        },
        "id": "QgAnIQbGCAO6",
        "outputId": "28f6d195-0f12-466c-c702-62508128c9e4"
      },
      "execution_count": null,
      "outputs": [
        {
          "output_type": "stream",
          "name": "stdout",
          "text": [
            "[['A', 'A', 'A'], ['A', 'A', 'B'], ['A', 'A', 'C'], ['A', 'B', 'A'], ['A', 'B', 'B'], ['A', 'B', 'C'], ['A', 'C', 'A'], ['A', 'C', 'B'], ['A', 'C', 'C'], ['B', 'A', 'A'], ['B', 'A', 'B'], ['B', 'A', 'C'], ['B', 'B', 'A'], ['B', 'B', 'B'], ['B', 'B', 'C'], ['B', 'C', 'A'], ['B', 'C', 'B'], ['B', 'C', 'C'], ['C', 'A', 'A'], ['C', 'A', 'B'], ['C', 'A', 'C'], ['C', 'B', 'A'], ['C', 'B', 'B'], ['C', 'B', 'C'], ['C', 'C', 'A'], ['C', 'C', 'B'], ['C', 'C', 'C']]\n"
          ]
        }
      ]
    },
    {
      "cell_type": "code",
      "source": [
        "# A, B, C 세 가지를 가지고 그 중 2개를 뽑아서 중복 순열을 만든다\n",
        "\n",
        "# 먼저 자료를 선형으로 구조화를 시킵니다. (배열)\n",
        "lookup = [\"A\", \"B\", \"C\"]\n",
        "result = []\n",
        "\n",
        "# 적절한 방법으로 어떻게 전부 다 탐색을 하는가? (for문 -> 2개 쓰면 된다)\n",
        "for i in range(3):\n",
        "  for j in range(3):\n",
        "      result.append([lookup[i], lookup[j]])\n",
        "\n",
        "print(result)\n"
      ],
      "metadata": {
        "colab": {
          "base_uri": "https://localhost:8080/"
        },
        "id": "bLkMSqrFHFVX",
        "outputId": "3cf5746b-6205-4b0c-8be7-bf991b0c8888"
      },
      "execution_count": null,
      "outputs": [
        {
          "output_type": "stream",
          "name": "stdout",
          "text": [
            "[['A', 'A'], ['A', 'B'], ['A', 'C'], ['B', 'A'], ['B', 'B'], ['B', 'C'], ['C', 'A'], ['C', 'B'], ['C', 'C']]\n"
          ]
        }
      ]
    },
    {
      "cell_type": "code",
      "source": [
        "# 순열 = 중복된 요소가 없어야 된다.\n",
        "\n",
        "# 먼저 자료를 선형으로 구조화를 시킵니다. (배열)\n",
        "lookup = [\"A\", \"B\", \"C\"]\n",
        "result = []\n",
        "\n",
        "# 적절한 방법으로 어떻게 전부 다 탐색을 하는가? (for문 -> 3중 for문)\n",
        "for i in range(3):\n",
        "  for j in range(3):\n",
        "    for k in range(3):\n",
        "      if i == j or j == k or k == i: continue\n",
        "      result.append([lookup[i], lookup[j], lookup[k]])\n",
        "\n",
        "print(result)"
      ],
      "metadata": {
        "colab": {
          "base_uri": "https://localhost:8080/"
        },
        "id": "QflchWWwGkG_",
        "outputId": "feaeb359-b2bb-4df0-e484-63f9fb688de8"
      },
      "execution_count": null,
      "outputs": [
        {
          "output_type": "stream",
          "name": "stdout",
          "text": [
            "[['A', 'B', 'C'], ['A', 'C', 'B'], ['B', 'A', 'C'], ['B', 'C', 'A'], ['C', 'A', 'B'], ['C', 'B', 'A']]\n"
          ]
        }
      ]
    },
    {
      "cell_type": "code",
      "source": [
        "# 조합 => 3개 중에 2개 조합\n",
        "\n",
        "# 먼저 자료를 선형으로 구조화를 시킵니다. (배열)\n",
        "lookup = [\"A\", \"B\", \"C\"]\n",
        "result = []\n",
        "\n",
        "# for문 몇 개 써야 할까요?\n",
        "for i in range(3):\n",
        "  for j in range(i + 1, 3):\n",
        "    for k in range(j + 1, 3):\n",
        "        result.append([lookup[i], lookup[j]])\n",
        "\n",
        "print(result)"
      ],
      "metadata": {
        "colab": {
          "base_uri": "https://localhost:8080/"
        },
        "id": "Vss02wQoIMZ1",
        "outputId": "ef34211f-ebbe-49a7-8a5d-c5f6efc43cfc"
      },
      "execution_count": null,
      "outputs": [
        {
          "output_type": "stream",
          "name": "stdout",
          "text": [
            "[['A', 'B'], ['A', 'C'], ['B', 'C']]\n"
          ]
        }
      ]
    },
    {
      "cell_type": "code",
      "source": [
        "# A, B, C 세 가지를 가지고 그 중 3개를 뽑아서 중복 순열을 만든다\n",
        "\n",
        "# 먼저 자료를 선형으로 구조화를 시킵니다. (배열)\n",
        "lookup = [\"A\", \"B\", \"C\"]\n",
        "result = []\n",
        "\n",
        "# 적절한 방법으로 어떻게 전부 다 탐색을 하는가? (for문 -> 3중 for문)\n",
        "for i in range(3):\n",
        "  for j in range(3):\n",
        "    for k in range(3):\n",
        "      result.append([lookup[i], lookup[j], lookup[k]])\n",
        "\n",
        "print(result)\n"
      ],
      "metadata": {
        "id": "kpOb6mGPJajt"
      },
      "execution_count": null,
      "outputs": []
    },
    {
      "cell_type": "code",
      "source": [
        "#탈출 조건은 왜 필요하죠?\n",
        "\n",
        "lookup = [\"A\", \"B\", \"C\"]\n",
        "result = []\n",
        "\n",
        "def recursion(count, bucket):\n",
        "  #탈출 조건\n",
        "  if count == 0:\n",
        "    return result.append(bucket)\n",
        "\n",
        "  for i in range(3):\n",
        "    pick = [lookup[i]]\n",
        "    recursion(count - 1, bucket + pick)\n",
        "\n",
        "\n",
        "\n",
        "recursion(3, [])"
      ],
      "metadata": {
        "id": "-Ke3NaT5LPYO"
      },
      "execution_count": null,
      "outputs": []
    },
    {
      "cell_type": "code",
      "source": [
        "element = [\"가\", \"나\", \"다\", \"라\"]\n",
        "\n",
        "\n",
        "def pick_or_not(idx, bucket):\n",
        "  if idx == len(element):\n",
        "    print(bucket)\n",
        "    return\n",
        "\n",
        "  #for문이 없는 for문처럼 돌고 있음\n",
        "  pick_or_not(idx + 1, bucket + [element[idx]])  # 1, [\"가\"]\n",
        "  pick_or_not(idx + 1, bucket)\n",
        "\n",
        "\n",
        "pick_or_not(0, [])"
      ],
      "metadata": {
        "colab": {
          "base_uri": "https://localhost:8080/"
        },
        "id": "vIZQrpHeNRxQ",
        "outputId": "c989909b-95a1-4032-ab9a-0914f80a3254"
      },
      "execution_count": null,
      "outputs": [
        {
          "output_type": "stream",
          "name": "stdout",
          "text": [
            "['가', '나', '다', '라']\n",
            "['가', '나', '다']\n",
            "['가', '나', '라']\n",
            "['가', '나']\n",
            "['가', '다', '라']\n",
            "['가', '다']\n",
            "['가', '라']\n",
            "['가']\n",
            "['나', '다', '라']\n",
            "['나', '다']\n",
            "['나', '라']\n",
            "['나']\n",
            "['다', '라']\n",
            "['다']\n",
            "['라']\n",
            "[]\n"
          ]
        }
      ]
    },
    {
      "cell_type": "code",
      "source": [
        "# BFS 알고리즘 -> 코드로 표현할 수 있어야 돼\n",
        "\n",
        "from collections import deque\n",
        "\n",
        "# 인접 리스트\n",
        "graph = [\n",
        "    [],\n",
        "    [2, 8],\n",
        "    [1, 3],\n",
        "    [2, 4, 5],\n",
        "    [3, 5],\n",
        "    [3, 4, 6],\n",
        "    [5, 7, 8],\n",
        "    [6, 8],\n",
        "    [1, 6, 7]\n",
        "]\n",
        "\n",
        "# BFS 함수 정의\n",
        "\n",
        "# 방문지 배열 : 왜 만들어줘야 돼요? 갔던 노드 또 안 가려고\n",
        "# visited = [False, False, False, False..., n+1]\n",
        "\n",
        "visited = [False] * 9\n",
        "\n",
        "def bfs(graph, node, visited):\n",
        "\n",
        "  #큐에다가 노드를 담아서 처리를 해야되기 때문에\n",
        "  queue = deque([node])\n",
        "  visited[node] = True\n",
        "\n",
        "  while queue:\n",
        "\n",
        "    # 큐에 삽입된 순서대로 노드를 하나 꺼냅니다\n",
        "    vertex = queue.popleft()\n",
        "\n",
        "    # 인접한 노드들에 접근\n",
        "    for i in graph[vertex]:\n",
        "      #방문했는지 안 했는지 확인\n",
        "      if not visited[i]:\n",
        "        #방문 표시\n",
        "        visited[i] = True\n",
        "        #큐에 노드 추가\n",
        "        queue.append(i)\n",
        "\n",
        "    print(vertex, end = ' ')\n",
        "\n",
        "\n",
        "\n",
        "bfs(graph, 1, visited)\n"
      ],
      "metadata": {
        "colab": {
          "base_uri": "https://localhost:8080/"
        },
        "id": "PLyZbDa2pRHZ",
        "outputId": "dfae99f9-50c6-4df1-a9c0-699b9a03539f"
      },
      "execution_count": null,
      "outputs": [
        {
          "output_type": "stream",
          "name": "stdout",
          "text": [
            "1 2 8 3 6 7 4 5 "
          ]
        }
      ]
    },
    {
      "cell_type": "code",
      "source": [],
      "metadata": {
        "id": "xG5VxbAEskxL"
      },
      "execution_count": null,
      "outputs": []
    }
  ]
}