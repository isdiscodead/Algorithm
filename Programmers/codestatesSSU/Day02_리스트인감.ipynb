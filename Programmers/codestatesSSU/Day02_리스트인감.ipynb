{
 "cells": [
  {
   "cell_type": "markdown",
   "metadata": {},
   "source": [
    "# 없는 숫자 더하기"
   ]
  },
  {
   "cell_type": "markdown",
   "metadata": {},
   "source": [
    "0부터 9까지의 숫자 중 "
   ]
  },
  {
   "cell_type": "markdown",
   "metadata": {},
   "source": [
    "제한 사항 -> 1개~9개 들어옴 \n",
    "요소는 총 10개이므로 최악의 경우 0을 제외하고 다 들어옴 -> 0을 더해야 함\n",
    "순회 해봤자 크기는 10이므로 구현 방식에 크게 구애받지 않음\n",
    "\n",
    "순회하며 존재하는 num을 remove한 뒤에 더해도 됨\n",
    "\n",
    "내가 생각한 방법 -> `0~9합` - sum(배열)"
   ]
  },
  {
   "cell_type": "code",
   "execution_count": null,
   "metadata": {},
   "outputs": [],
   "source": [
    "def solution(numbers):\n",
    "    return sum(range(10)) - sum(numbers) # sum(range(10)) == 45 ... 리터럴로 적어도 됨 \n",
    "\n",
    "solution = lambda x: 45 - sum(x) # 도 가능 "
   ]
  },
  {
   "cell_type": "markdown",
   "metadata": {},
   "source": [
    "# 달리기 경주"
   ]
  },
  {
   "cell_type": "markdown",
   "metadata": {},
   "source": [
    "문제 설명"
   ]
  },
  {
   "cell_type": "markdown",
   "metadata": {},
   "source": [
    "느엥 ??\n",
    "\n",
    "그냥 ... 음 불러진거 .. 순회해서 ...  swap..    근데 어케 빠르게 할까 ???\n",
    "ordered dictㄹ르 활용할 수 잇는 방법이 잇남 ?>.... \n",
    "\n",
    "단순히 for loop 사용하면 -> 1M * 50K = 500억 번 ... ㄷㄷ \n",
    "1억까지 순회해도 되는디 ... 넘음 !! \n",
    "\n",
    "항상 문제 이해 후 크기를 확인해보즈아\n",
    "모든 경우의 수 계산 = 완전 탐색 ... 최악의 경우를 확인해보자 \n",
    "\n",
    "반환해야 하는 값 = 선수의 순위\n",
    "\n",
    "어렵당 ... \n",
    "\n",
    "이름 : 순서로 변경\n",
    "근데 앞 순서인 사람을 어케 찾지잉ㅇㅇ ??? \n",
    "이름으로 위치를 찾으려면 ? \n",
    "\n",
    "// TODO :\n",
    "딕셔너리를 연결리스트처럼 사용하면 시간이 줄어들진 않을까 ?? 흠\n",
    "이름 : { 앞 사람 이름, 순위, 뒤 사람 이름 }이런 느낌으루 ..... "
   ]
  },
  {
   "cell_type": "code",
   "execution_count": null,
   "metadata": {},
   "outputs": [],
   "source": [
    "def solution(players, callings):\n",
    "    maps = {}\n",
    "\n",
    "    for player, idx in enumerate(players):\n",
    "        maps[player] = idx + 1\n",
    "\n",
    "    # 순회\n",
    "    for player in callings:\n",
    "        curPlayer = maps.get(player) # 현재 불린 플레이어의 등수 \n",
    "        maps[player] -= 1\n",
    "        maps[players[curPlayer - 1]] += 1 # 근데 이렇게 하면 계쏙 진행되면 players가 안바뀌지 않나 ...  아 ㅇㅋ ( 밑에서 처리 )\n",
    "\n",
    "        # swap\n",
    "        players[curPlayer-1], players[curPlayer] = players[curPlayer], players[curPlayer-1]\n",
    "\n",
    "    return players\n"
   ]
  },
  {
   "cell_type": "markdown",
   "metadata": {},
   "source": [
    "# 성격 유형 검사하기"
   ]
  },
  {
   "cell_type": "markdown",
   "metadata": {},
   "source": [
    "설명\n"
   ]
  },
  {
   "cell_type": "markdown",
   "metadata": {},
   "source": [
    "총 16개 유형 ... \n",
    "\n",
    "n개의 질문 * 7개의 선택지  ... \n",
    "동의 <-> 비동의에 따라서 지표에 묶여있는 한쪽 유형의 점수가 올라감 \n",
    "\n",
    "H-CASE : 하나의 지표에서 점수가 같으면 사전 순(= 문자열 오름차 )으로 빠른 성격을 선택\n",
    "\n",
    "내가 생각한 방법 -> 1~7까지 선택지에 따라서 idx, 점수로 연결 + 각 유형은 Dict로 묶음\n",
    "\n",
    "질문과 선택의 길이가 동일하므로 1회의 순회로 처리"
   ]
  },
  {
   "cell_type": "code",
   "execution_count": null,
   "metadata": {},
   "outputs": [],
   "source": [
    "def solution(survey, choices):\n",
    "    answer = ''\n",
    "\n",
    "    scores = {\n",
    "        'R': 0,\n",
    "        'T': 0,\n",
    "        'C': 0,\n",
    "        'F': 0,\n",
    "        'J': 0,\n",
    "        'M': 0,\n",
    "        'A': 0,\n",
    "        'N': 0\n",
    "    }\n",
    "\n",
    "    # lookup table 사용 혹은 abs(값- 4)\n",
    "    score_table = {\n",
    "        1: 3,\n",
    "        2: 2,\n",
    "        3: 1,\n",
    "        4: 0,\n",
    "        5: 1,\n",
    "        6: 2,\n",
    "        7: 3\n",
    "    }\n",
    "\n",
    "    for idx, h in enumerate(survey):\n",
    "        score = score_table.get(choices[idx])\n",
    "        if choices[i] <= 3:\n",
    "            socres[h[0]] += score\n",
    "        else:\n",
    "            scores[h[1]] += score\n",
    "\n",
    "    str = ''\n",
    "\n",
    "    # 결과 담기 \n",
    "    if scores['R'] >= scores['T']: # 사전순 포함해서 결정\n",
    "        str += 'R'\n",
    "    else:\n",
    "        str += 'T'\n",
    "\n",
    "    # 위 코드는 아래와 같음\n",
    "    str += 'R' if scores['R'] >= scores['T'] else 'T'\n",
    "    str += 'C' if scores['C'] >= scores['F'] else 'F'\n",
    "    str += 'J' if scores['J'] >= scores['M'] else 'M'\n",
    "    str += 'A' if scores['A'] >= scores['N'] else 'N'\n",
    " \n",
    "    return answer"
   ]
  },
  {
   "cell_type": "markdown",
   "metadata": {},
   "source": [
    "# 신고 결과 받기"
   ]
  },
  {
   "cell_type": "markdown",
   "metadata": {},
   "source": [
    "문제 설명"
   ]
  },
  {
   "cell_type": "markdown",
   "metadata": {},
   "source": [
    "1번을 2번을 신고할 수도, 2번과 3번을 한 번씩 신고할 수도 있음 \n",
    "\n",
    "여러번 신고할 경우 처리 메일은 한 번만 ... ( 나머지 횟수는 무효 ) 다중은 가능하나 중복은 X\n",
    "\n",
    "k번 이상 신고된 경우 정지, 해당 유저를 신고한 사람에게 모두 메일링\n",
    "\n",
    "내가 생각한 방법 -> 딕셔너리 : 리스트 - 세트 - 리스트 개수 이런 방법 ... 은 생각보다 문제가 복잡하네 직접 풀어보고 싶은디"
   ]
  },
  {
   "cell_type": "code",
   "execution_count": 4,
   "metadata": {},
   "outputs": [
    {
     "ename": "KeyError",
     "evalue": "'muzi'",
     "output_type": "error",
     "traceback": [
      "\u001b[0;31m---------------------------------------------------------------------------\u001b[0m",
      "\u001b[0;31mKeyError\u001b[0m                                  Traceback (most recent call last)",
      "Cell \u001b[0;32mIn[4], line 17\u001b[0m\n\u001b[1;32m     12\u001b[0m             answer[id_list\u001b[39m.\u001b[39mindexOf(user)] \u001b[39m+\u001b[39m\u001b[39m=\u001b[39m \u001b[39m1\u001b[39m\n\u001b[1;32m     14\u001b[0m     \u001b[39mreturn\u001b[39;00m answer \n\u001b[0;32m---> 17\u001b[0m solution([\u001b[39m\"\u001b[39;49m\u001b[39mmuzi\u001b[39;49m\u001b[39m\"\u001b[39;49m, \u001b[39m\"\u001b[39;49m\u001b[39mfrodo\u001b[39;49m\u001b[39m\"\u001b[39;49m, \u001b[39m\"\u001b[39;49m\u001b[39mapeach\u001b[39;49m\u001b[39m\"\u001b[39;49m, \u001b[39m\"\u001b[39;49m\u001b[39mneo\u001b[39;49m\u001b[39m\"\u001b[39;49m], [\u001b[39m\"\u001b[39;49m\u001b[39mmuzi frodo\u001b[39;49m\u001b[39m\"\u001b[39;49m, \u001b[39m\"\u001b[39;49m\u001b[39mapeach frodo\u001b[39;49m\u001b[39m\"\u001b[39;49m, \u001b[39m\"\u001b[39;49m\u001b[39mfrodo neo\u001b[39;49m\u001b[39m\"\u001b[39;49m, \u001b[39m\"\u001b[39;49m\u001b[39mmuzi neo\u001b[39;49m\u001b[39m\"\u001b[39;49m, \u001b[39m\"\u001b[39;49m\u001b[39mapeach muzi\u001b[39;49m\u001b[39m\"\u001b[39;49m], \u001b[39m2\u001b[39;49m)\n",
      "Cell \u001b[0;32mIn[4], line 7\u001b[0m, in \u001b[0;36msolution\u001b[0;34m(id_list, report, k)\u001b[0m\n\u001b[1;32m      5\u001b[0m \u001b[39mfor\u001b[39;00m \u001b[39mstr\u001b[39m \u001b[39min\u001b[39;00m report:\n\u001b[1;32m      6\u001b[0m     user, reported \u001b[39m=\u001b[39m \u001b[39mstr\u001b[39m\u001b[39m.\u001b[39msplit()\n\u001b[0;32m----> 7\u001b[0m     stat[user]\u001b[39m.\u001b[39madd(reported)\n\u001b[1;32m      8\u001b[0m     stat[user] \u001b[39m=\u001b[39m \u001b[39mset\u001b[39m(stat[user])\n\u001b[1;32m     10\u001b[0m \u001b[39mfor\u001b[39;00m user \u001b[39min\u001b[39;00m stat:\n",
      "\u001b[0;31mKeyError\u001b[0m: 'muzi'"
     ]
    }
   ],
   "source": [
    "def solution(id_list, report, k):\n",
    "    answer = [0] * len(id_list)\n",
    "    stat = {}\n",
    "\n",
    "    for str in report:\n",
    "        user, reported = str.split()\n",
    "        stat[user].add(reported)\n",
    "        stat[user] = set(stat[user])\n",
    "        \n",
    "    for user in stat:\n",
    "        if ( len(stat[user]) >= k ) :\n",
    "            answer[id_list.indexOf(user)] += 1\n",
    "\n",
    "    return answer \n",
    "\n",
    "\n",
    "solution(['muzi', 'frodo', 'apeach', 'neo'], ['muzi frodo', 'apeach frodo', 'frodo neo', 'muzi neo', 'apeach muzi'], 2)"
   ]
  },
  {
   "cell_type": "code",
   "execution_count": null,
   "metadata": {},
   "outputs": [],
   "source": []
  }
 ],
 "metadata": {
  "kernelspec": {
   "display_name": "Python 3",
   "language": "python",
   "name": "python3"
  },
  "language_info": {
   "codemirror_mode": {
    "name": "ipython",
    "version": 3
   },
   "file_extension": ".py",
   "mimetype": "text/x-python",
   "name": "python",
   "nbconvert_exporter": "python",
   "pygments_lexer": "ipython3",
   "version": "3.9.6"
  },
  "orig_nbformat": 4
 },
 "nbformat": 4,
 "nbformat_minor": 2
}
