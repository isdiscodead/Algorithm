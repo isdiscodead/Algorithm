{
 "cells": [
  {
   "cell_type": "markdown",
   "metadata": {},
   "source": [
    "# 01. 알고리즘 문제 풀이 전략"
   ]
  },
  {
   "cell_type": "markdown",
   "metadata": {},
   "source": [
    "## 알고리즘( Algorithm )이란 무엇일까?\n",
    "주어진 문제를 해결하기 위한 명확하고 정확한 절차나 규칙의 집합\n",
    "\n",
    "혹은 생각의 표현, 아이디어의 구현, 복잡성을 단순화하는 방법\n",
    "\n",
    "-> 일련의 단계적인 지시사항 = 컴퓨터가 우리가 원하는 작업을 수행하도록 지시하는 방법\n",
    "\n",
    "-> 명확한 결과를 달성하기 위한 단계별 지침의 집합이며, 명확하고 효과적이며 실용적인 해결책을 제공하는 도구"
   ]
  },
  {
   "cell_type": "markdown",
   "metadata": {},
   "source": [
    "### 알고리즘의 특성\n",
    "\n",
    "#### 명확성( Definiteness )\n",
    "각 단계마다 명확하고 이해하기 쉽게 정의, 모호성이 없어야 함\n",
    "\n",
    "-> 각 단계는 특정한 연산 수행, 고유하고 잘 정의된 결과 생성\n",
    "\n",
    "#### 유한성( Finiteness )\n",
    "반드시 유한한 횟수의 단계를 거친 후에 종료되어야 함 (언젠가는 완료 )\n",
    "\n",
    "-> 무한 루프에 빠지지 않으며, 항상 특정 조건이 충족되면 종료됨을 보장\n",
    "\n",
    "#### 효과성( Effectiveness )\n",
    "각 단계는 효과적으로 실행 가능 = 필요한 시간과 리소스 최소화\n",
    "\n",
    "-> 알고리즘의 성능 최적화, 특히 대량의 데이터를 처리하거나 복잡한 계산 수행 시 중요함"
   ]
  },
  {
   "cell_type": "markdown",
   "metadata": {},
   "source": [
    "### 알고리즘의 요소\n",
    "#### 입력( Input )\n",
    "0 또는 그 이상의 명확하게 정의된 입력 = 작동에 필요한 데이터나 정보 제공\n",
    "\n",
    "-> 알고리즘의 동작을 이해하고 예측하는 데 도움\n",
    "#### 출력 ( Output )\n",
    "최소 하나 이상의 명확하게 정의된 출력 생성 = 실행 결과\n",
    "\n",
    "-> 어떤 문제를 해결하거나 어떤 작업을 수행하는지 이해"
   ]
  },
  {
   "cell_type": "markdown",
   "metadata": {},
   "source": [
    "## 문제 풀이 접근법"
   ]
  },
  {
   "cell_type": "markdown",
   "metadata": {},
   "source": [
    "### 문제를 잘 이해하기\n",
    "#### 1. 주어진 문제 읽고 파악하기\n",
    "문제가 요구하는 것을 파악 = 결과\n",
    "#### 2. 요구사항 파악하기\n",
    "문제의 요구사항 파악 = input / output\n",
    "#### 3. 예외사항 파악하기\n",
    "예외 케이스 -> 문제 설명을 통해 유추해야 하는 경우도 존재 \n",
    "\n",
    "ex. `정렬되지 않은 정수 배열이 주어졌을 때, 가장 빈번하게 등장하는 정수를 찾는 알고리즘을 작성하라` -> 동일한 갯수의 정수가 2개 이상일 경우, 어떤 답을 반환해야 하는지가 예외 케이스"
   ]
  },
  {
   "cell_type": "markdown",
   "metadata": {},
   "source": [
    "### 문제를 잘 분석하기\n",
    "#### 1. 의사 코드 활용하기\n",
    "프로그래밍 언어 사용 없이 문제의 해결 로직과 과정을 단계별로 나누어 적는 것\n",
    "\n",
    "-> 복잡한 문제를 단순화, 로직을 효율적으로 구조화\n",
    "#### 2. 문제를 작은 단위로 나누어서 해결하기\n",
    "= `분할 정복(Divide and Conquer)`\n",
    "\n",
    "주어진 문제를 **더 작고, 더 쉽게 해결**할 수 있는 **부분 문제로 나누고** 각각 해결한 후, 해결책을 합쳐서 원래의 문제를 해결하는 것\n",
    "\n",
    "-> 복잡성을 줄이며 논리적 단계 설정에 도움, 문제의 각 부분에 대한 깊은 이해 구축"
   ]
  },
  {
   "cell_type": "markdown",
   "metadata": {},
   "source": [
    "## 연습 문제"
   ]
  },
  {
   "cell_type": "markdown",
   "metadata": {},
   "source": [
    "문제 : 문자열을 요구사항에 맞게 변경하기\n",
    "\n",
    "입력된 문자열을 아래 요구사항에 맞게 변경하여 출력해야 하는 문제입니다. 문자열의 길이를 확인하고, 문자 하나의 요소가 짝수 위치에 존재한다면 소문자를 대문자로, 대문자를 소문자로 변경해야 합니다. 공백은 포함하지 않고, 문자열의 길이에서도 제외해야 합니다. 하지만 변경된 문자열에 공백은 그대로 포함되어야 합니다.\n",
    "\n",
    "입력 예시) “Divide and conquer algorithm” -> “DIvIdE aNd CoNqUeR aLgOrItHm”"
   ]
  },
  {
   "cell_type": "code",
   "execution_count": null,
   "metadata": {},
   "outputs": [],
   "source": [
    "# 의사 코드 작성\n",
    "'''\n",
    "1. 공백 위치 저장\n",
    "2. 공백 삭제\n",
    "3. 짝수 위치일 경우 대문자/소문자 변경\n",
    "4. 공백 위치에 공백 다시 삽입\n",
    "'''"
   ]
  },
  {
   "cell_type": "code",
   "execution_count": 21,
   "metadata": {},
   "outputs": [
    {
     "name": "stdout",
     "output_type": "stream",
     "text": [
      "DIvIdE aNd CoNqUeR aLgOrItHm\n",
      "DIvIdE aNd CoNqUeR aLgOrItHm\n"
     ]
    }
   ],
   "source": [
    "def solution(inputs):\n",
    "    result = ''\n",
    "\n",
    "    # 공백 위치 저장\n",
    "    indeces = []\n",
    "    for i in range(len(inputs)):\n",
    "        if inputs[i] == ' ':\n",
    "            indeces.append(i)\n",
    "\n",
    "    # 공백 삭제\n",
    "    inputs = inputs.replace(' ', '')\n",
    "\n",
    "    # 짝수 위치일 경우 대문자/소문자 변경\n",
    "    for i in range(len(inputs)):\n",
    "        if ( i%2!=0 ):\n",
    "            if inputs[i].isupper() :\n",
    "                result += inputs[i].lower()\n",
    "            else:\n",
    "                result += inputs[i].upper()\n",
    "                \n",
    "        else:\n",
    "            result += inputs[i]\n",
    "\n",
    "    # 공백 위치에 공백 다시 삽입\n",
    "    for i in indeces:\n",
    "        result = result[0:i] + ' ' + result[i:]\n",
    "\n",
    "    return result\n",
    "\n",
    "print(solution(\"Divide and conquer algorithm\"))\n",
    "# print('DIvIdE aNd CoNqUeR aLgOrItHm')"
   ]
  },
  {
   "cell_type": "code",
   "execution_count": null,
   "metadata": {},
   "outputs": [],
   "source": [
    "def modify_string(input_str):\n",
    "    # 1. 문자열의 모든 공백의 위치를 저장 (인덱스를 저장함)\n",
    "    spaces = [idx for idx, char in enumerate(input_str) if char.isspace()]\n",
    "\n",
    "    # 2. 문자열의 모든 공백을 제거\n",
    "    modified_str = input_str.replace(\" \", \"\")\n",
    "\n",
    "    # 3. 짝수 위치의 문자열을 대/소문자로 변경한 새로운 문자열 생성\n",
    "    # modified_chars = [char.lower() if (i + 1) % 2 == 0 and char.isupper() else char.upper() if (i + 1) % 2 == 0 and char.islower() else char for i, char in enumerate(modified_str)]\n",
    "\n",
    "    # 주어진 리스트에서 각 요소를 순회하며 변환된 문자열을 생성하는 과정입니다.\n",
    "    # modified_str은 미리 공백을 제거한 문자열 리스트를 의미합니다.\n",
    "    # 각 요소와 인덱스를 enumerate 함수를 이용해 추출합니다.\n",
    "    modified_chars = []\n",
    "    for i, char in enumerate(modified_str):\n",
    "        # (i + 1) % 2 == 0인 경우에 대해 처리합니다.\n",
    "        if (i + 1) % 2 == 0:\n",
    "            # 해당 문자가 대문자이고 짝수 위치인 경우 소문자로 변경합니다.\n",
    "            if char.isupper():\n",
    "                modified_chars.append(char.lower())\n",
    "            # 해당 문자가 소문자이고 짝수 위치인 경우 대문자로 변경합니다.\n",
    "            elif char.islower():\n",
    "                modified_chars.append(char.upper())\n",
    "        # (i + 1) % 2 == 0가 아닌 경우에는 문자를 그대로 추가합니다.\n",
    "        else:\n",
    "            modified_chars.append(char)\n",
    "\n",
    "    # 4. 1번에서 저장한 공백의 위치에 다시 공백을 삽입하여 새로운 문자열 생성\n",
    "    for space_idx in spaces:\n",
    "        modified_chars.insert(space_idx, \" \")\n",
    "\n",
    "    # 5. 결과값 반환\n",
    "    return ''.join(modified_chars)\n",
    "\n",
    "\n",
    "# 입력 문자열\n",
    "input_str = \"Divide and conquer algorithm\"\n",
    "# 함수 호출하여 변경된 문자열 반환\n",
    "result_str = modify_string(input_str)\n",
    "print(result_str)"
   ]
  },
  {
   "cell_type": "markdown",
   "metadata": {},
   "source": [
    "두 코드 모두 유사한 작업을 수행하지만, 처리 방식에서 약간의 차이가 있습니다. 성능을 비교할 때 주요 고려 사항은 반복문의 사용, 리스트와 문자열의 조작 방식, 그리고 알고리즘의 전체적인 효율성입니다.\n",
    "\n",
    "첫 번째 코드는 문자열을 직접 조작하면서 공백을 다시 삽입할 때, 매번 새로운 문자열을 생성합니다. 문자열은 변경 불가능(immutable)하기 때문에, 이러한 조작은 비교적 더 많은 메모리 사용과 시간을 소모할 수 있습니다.\n",
    "\n",
    "두 번째 코드에서는 리스트를 사용하여 문자를 저장하고, 최종적으로 .join() 메소드를 통해 문자열을 생성합니다. 리스트는 변경 가능(mutable)하므로, 리스트에 대한 조작은 문자열을 직접 조작하는 것보다 일반적으로 더 빠르고 효율적입니다. 또한, .insert() 메소드를 사용하여 공백을 삽입하는 부분도 있지만, 이 작업은 상대적으로 적은 횟수로 수행됩니다.\n",
    "\n",
    "두 번째 코드가 전반적으로 더 효율적일 가능성이 높습니다. 이는 두 번째 코드가 문자열의 변경 사항을 리스트에 저장하고, 최종적으로 한 번만 문자열로 변환하기 때문입니다. 반면, 첫 번째 코드는 문자열 조작 과정에서 여러 번 새로운 문자열을 생성하므로, 특히 입력 문자열의 길이가 길어질수록 더 많은 오버헤드를 발생시킬 수 있습니다."
   ]
  },
  {
   "cell_type": "markdown",
   "metadata": {},
   "source": []
  }
 ],
 "metadata": {
  "kernelspec": {
   "display_name": "deep",
   "language": "python",
   "name": "deep"
  },
  "language_info": {
   "codemirror_mode": {
    "name": "ipython",
    "version": 3
   },
   "file_extension": ".py",
   "mimetype": "text/x-python",
   "name": "python",
   "nbconvert_exporter": "python",
   "pygments_lexer": "ipython3",
   "version": "3.7.16"
  }
 },
 "nbformat": 4,
 "nbformat_minor": 2
}
