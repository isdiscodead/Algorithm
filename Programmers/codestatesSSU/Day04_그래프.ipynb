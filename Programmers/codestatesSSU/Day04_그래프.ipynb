{
 "cells": [
  {
   "cell_type": "markdown",
   "metadata": {},
   "source": [
    "## 비선형 구조 Nonlinear"
   ]
  },
  {
   "cell_type": "markdown",
   "metadata": {},
   "source": [
    "### Tree"
   ]
  },
  {
   "cell_type": "markdown",
   "metadata": {},
   "source": [
    "컴퓨터 구조 -> 트리구조 / html DOM도 트리 구조"
   ]
  },
  {
   "cell_type": "markdown",
   "metadata": {},
   "source": [
    "Tree는 Graph의 일종으로, 최상위 root 노드가 반드시 존재하는 계층적 구조 ! \n",
    "\n",
    "이진트리 = 한 부모 노드가 자식 노드를 2개까지 ... ( 정이진트리, 완전이진트리, 균형이진트리 ... )"
   ]
  },
  {
   "cell_type": "markdown",
   "metadata": {},
   "source": [
    "### Graph"
   ]
  },
  {
   "cell_type": "markdown",
   "metadata": {},
   "source": [
    "문제를 보고 간선과 벌텍스에 따라서 배열이 좋을지 인접 리스트가 좋을지 ?? 결정"
   ]
  },
  {
   "cell_type": "markdown",
   "metadata": {},
   "source": []
  },
  {
   "cell_type": "markdown",
   "metadata": {},
   "source": []
  },
  {
   "cell_type": "markdown",
   "metadata": {},
   "source": [
    "## 알고리즘 풀이"
   ]
  },
  {
   "cell_type": "markdown",
   "metadata": {},
   "source": [
    "### 1. 배달"
   ]
  },
  {
   "cell_type": "code",
   "execution_count": null,
   "metadata": {},
   "outputs": [],
   "source": [
    "'''\n",
    "가중치, 무방향, 양방향 그래프\n",
    "N개의 마을 -> N개의 정점( 1 ~ N )\n",
    "각 마을을 연결하는 도로의 정보 ; road[0] = [1, 2, 1] -> 마을1 - 마을2 = 1시간\n",
    "-> 2개가 있을 때는 빠른 도로를 사용 ... \n",
    "음식 배달이 가능한 시간 K\n",
    "\n",
    "가중치가 존재하는 인접 행렬\n",
    "'''\n",
    "\n",
    "def solution(N, road, K):\n",
    "    answer = 0\n",
    "    graph = [[] * (N+1)]\n",
    "    \n",
    "    for i in range(N+1):\n",
    "        # float('inf') : 아주 큰 값으로 초기화 할 때 사용\n",
    "        graph.append([float('inf')] * (N+1))\n",
    "\n",
    "    for start, next, time in road:\n",
    "        graph[start][next] = min(graph[start][next], time) # 최단 거리만 사용\n",
    "        graph[next][start] = min(graph[next][start], time)\n",
    "        \n",
    "    delivery_time = [float('inf')] * (N + 1)\n",
    "\n",
    "    return answer"
   ]
  },
  {
   "cell_type": "markdown",
   "metadata": {},
   "source": [
    "### 2. 더 맵게\n",
    "\n",
    "최솟값 검색 -> 최소 힙 사용 ... \n",
    "\n",
    "힙이라는 자료구조 자체가 자동으로 정렬된 상태를 유지함"
   ]
  },
  {
   "cell_type": "markdown",
   "metadata": {},
   "source": []
  }
 ],
 "metadata": {
  "language_info": {
   "name": "python"
  },
  "orig_nbformat": 4
 },
 "nbformat": 4,
 "nbformat_minor": 2
}
