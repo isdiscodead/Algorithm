{
  "nbformat": 4,
  "nbformat_minor": 0,
  "metadata": {
    "colab": {
      "provenance": [],
      "toc_visible": true
    },
    "kernelspec": {
      "name": "python3",
      "display_name": "Python 3"
    },
    "language_info": {
      "name": "python"
    }
  },
  "cells": [
    {
      "cell_type": "markdown",
      "source": [
        "# ****BFS(Breathed First Search)의 기본 개념****\n",
        "BFS는 그래프 탐색 알고리즘 중 하나로, 깊이 우선 탐색(Depth First Search, DFS)이 깊이를 우선적으로 탐색하는 반면, BFS(Breathed First Search)는 너비 우선 탐색으로 **너비를 우선하여 인접한 정점부터 탐색을 진행**하며, 이는 주로 큐(Queue)라는 자료 구조를 활용하여 구현됩니다.\n",
        "\n",
        "이러한 큐는 먼저 들어온 데이터가 먼저 나가는, 즉 FIFO(First In First Out) 방식으로 동작합니다. BFS에서는 시작점부터 인접한 정점을 모두 큐에 넣으면서 탐색을 진행합니다."
      ],
      "metadata": {
        "id": "JtxLbHZMy2Jh"
      }
    },
    {
      "cell_type": "markdown",
      "source": [
        "## **BFS란?**\n",
        "\n",
        "![image (8)](https://github.com/codestates-seb/seb39_main_019/assets/75019459/df78743f-79ff-450e-b350-d7c9ed085b07)\n",
        "\n",
        "BFS(너비 우선 탐색)은 한 정점을 기준으로 인접한 모든 정점들을 방문한 후, 방문한 정점을 새로운 기준으로 설정하여 이와 인접한 정점들을 차례로 방문하는 방식의 탐색입니다."
      ],
      "metadata": {
        "id": "kkOHFoMvy5Sc"
      }
    },
    {
      "cell_type": "markdown",
      "source": [
        "## **BFS의 동작 원리**\n",
        "\n",
        "BFS의 동작 원리는 다음과 같습니다.\n",
        "\n",
        "1. 시작 정점을 큐에 넣고, 해당 정점을 방문한 것으로 표시합니다.\n",
        "2. 큐가 빌 때까지 다음의 단계를 반복합니다.\n",
        "    - 큐에서 하나의 정점을 가져와 현재 정점으로 설정합니다.\n",
        "    - 현재 정점과 인접한 모든 정점들을 검토합니다.\n",
        "    - 아직 방문하지 않은 인접한 정점들을 모두 큐에 넣고, 방문한 것으로 표시합니다.\n",
        "3. 큐가 비었을 때 탐색을 종료합니다.\n",
        "\n"
      ],
      "metadata": {
        "id": "kKVJwQG4y6xa"
      }
    },
    {
      "cell_type": "markdown",
      "source": [
        "## **BFS를 활용해야 하는 경우**\n",
        "\n",
        "1. 그래프의 모든 정점을 방문해야 하는 문제에서 DFS나 BFS 중 어느 것을 사용해도 좋습니다. 주요 목표가 모든 정점을 방문하는 것이라면, 둘 중에서 편한 것을 선택하시면 됩니다.\n",
        "2. 최단 경로를 찾아야 하는 문제\n",
        "    - 예를 들어, 미로 찾기와 같이 최단 경로를 찾아야 하는 상황에서는 BFS가 유용합니다. DFS로 경로를 검색할 경우 처음으로 발견되는 해결책이 반드시 최단 경로라는 보장이 없습니다. 그러나 BFS는 현재 노드에서 가장 가까운 곳부터 탐색하기 때문에, 처음으로 발견되는 해결책이 바로 최단 경로가 됩니다.\n",
        "3. 검색 대상이 크지 않고, 검색의 시작점에서 원하는 대상이 멀지 않은 경우\n",
        "    - 최단 경로가 존재한다면, 하나의 경로가 무한히 이어지더라도 BFS는 방문 여부를 확인하고, 모든 경로를 검토하므로 **반드시 최단 경로를 찾을 수 있습니다.**\n"
      ],
      "metadata": {
        "id": "AU6rLf5fy77C"
      }
    },
    {
      "cell_type": "markdown",
      "source": [
        "## **BFS 활용시 주의할 점**\n",
        "\n",
        "1. 그래프의 크기와 밀도에 따라 성능이 달라집니다.\n",
        "    - 그래프의 크기나 밀도가 커질수록, 즉 정점이나 간선의 개수가 많아질수록 BFS의 성능이 저하될 수 있습니다.\n",
        "2. 방문한 정점들을 저장해야 하므로 메모리 사용량이 큽니다.\n",
        "    - BFS는 큐를 사용하여 방문한 정점들을 저장해야 합니다. 따라서 그래프의 크기가 커질수록, 큐에 저장되는 정점의 수도 늘어나 메모리 사용량이 커집니다. 이 경우, BFS보다는 DFS를 사용하는 것이 바람직합니다.\n",
        "3. BFS는 시작점에서 도달 가능한 정점들만 탐색합니다.\n",
        "    - BFS는 시작점에서 도달할 수 없는 정점은 탐색하지 않습니다. 따라서 시작점에서 도달 가능한 정점들만 탐색하는 경우에만 사용해야 합니다.\n",
        "4. BFS는 **방문 여부를 체크하는 자료구조**를 사용해야 합니다.\n",
        "    - BFS에서는 방문 여부를 체크하는 자료구조가 필요합니다. 이를 사용하지 않으면 무한 루프에 빠질 수 있습니다.\n",
        "\n",
        "---"
      ],
      "metadata": {
        "id": "Z7cjuOa3y9HK"
      }
    },
    {
      "cell_type": "markdown",
      "source": [
        "# ****BFS 탐색 순서와 방법****\n",
        "\n",
        "너비 우선 탐색의 탐색 순서는 다음과 같습니다:\n",
        "\n",
        "1. 시작 정점을 방문합니다.\n",
        "2. 시작 정점과 인접한 정점들을 모두 큐에 넣습니다.\n",
        "3. 큐에서 정점을 하나씩 꺼내어 방문합니다.\n",
        "4. 꺼낸 정점과 인접한 정점들 중에서 아직 방문하지 않은 정점들을 큐에 넣습니다.\n",
        "5. 큐가 빌 때까지 3과 4 과정을 반복합니다.\n",
        "6. 모든 정점을 방문할 때까지 2부터 5까지의 과정을 반복합니다.\n",
        "\n",
        "위와 같은 순서로 탐색을 진행하면 시작점으로부터 각 레벨별로 차례로 탐색이 이루어집니다. 탐색 순서는 시작점으로부터 가장 가까운 정점들부터 차례로 방문하게 됩니다. 이처럼 BFS는 시작점과의 거리에 기반하여 탐색 순서를 결정하며, 같은 레벨에 위치한 모든 정점들을 방문한 뒤에 다음 레벨의 정점들을 방문합니다. 그러나 실제 그래프의 구조와 특성에 따라, 이 탐색 순서는 달라질 수 있습니다.\n",
        "\n",
        "다음은 너비 우선 탐색의 순서를 시각화하기 위해 다음과 같은 그래프를 예시로 사용하겠습니다:"
      ],
      "metadata": {
        "id": "bXjJxOURzApQ"
      }
    },
    {
      "cell_type": "code",
      "source": [
        "0---1---2\n",
        "    |  /\n",
        "   /  /\n",
        "  /  /\n",
        "3---4---5"
      ],
      "metadata": {
        "id": "Nf77KSvVzJgE"
      },
      "execution_count": null,
      "outputs": []
    },
    {
      "cell_type": "markdown",
      "source": [
        "코드를 실행하면 다음과 같은 결과가 출력됩니다:"
      ],
      "metadata": {
        "id": "bufsrU-VzKco"
      }
    },
    {
      "cell_type": "code",
      "source": [
        "너비 우선 탐색 순서:\n",
        "0 1 2 3 4 5"
      ],
      "metadata": {
        "id": "s3mU6KNbzLV6"
      },
      "execution_count": null,
      "outputs": []
    },
    {
      "cell_type": "markdown",
      "source": [
        "위 결과는 정점 0에서 시작하여 너비 우선 탐색을 수행한 순서를 나타냅니다. 너비 우선 탐색은 시작 정점을 방문한 뒤 인접한 정점들을 모두 탐색한 후, 그 다음 레벨의 정점들을 탐색하는 방식으로 탐색을 진행합니다.\n"
      ],
      "metadata": {
        "id": "jn1klfTMzMqH"
      }
    },
    {
      "cell_type": "markdown",
      "source": [
        "# ****BFS 알고리즘의 구현****"
      ],
      "metadata": {
        "id": "AVjNEWmFzNdP"
      }
    },
    {
      "cell_type": "markdown",
      "source": [
        "## **BFS 알고리즘 구현 방법**\n",
        "\n",
        "BFS는 큐 자료 구조를 활용하여 구현됩니다. 큐는 먼저 들어온 데이터가 먼저 나가는 FIFO 방식으로 동작합니다. 따라서 BFS에서는 시작 노드를 큐에 삽입한 후, 인접한 노드를 큐에 순차적으로 삽입하면서 탐색을 진행합니다.\n",
        "\n",
        "BFS에서는 visited 배열과 같이 방문 여부를 체크하는 자료 구조를 사용해야 합니다. 이를 사용하지 않을 경우, 무한 루프에 빠질 수 있습니다.\n",
        "\n",
        "BFS의 구체적인 과정은 다음과 같습니다.\n",
        "\n",
        "1. BFS는 선입선출 방식을 따르는 큐 자료 구조를 사용합니다.\n",
        "2. 시작 노드를 큐에 삽입합니다.\n",
        "3. 큐에 아무것도 남아있지 않을 때까지 다음 과정을 반복합니다.\n",
        "    - 큐에서 정점을 하나씩 꺼냅니다. (`queue.poll()`를 활용)\n",
        "    - 추출한 정점을 방문 처리합니다. 방문 여부는 배열이나 집합과 같은 자료 구조를 통해 체크합니다.(예: **`visited[node] = true;`**)\n",
        "    - 추출한 정점과 인접한 정점을 확인합니다.\n",
        "    - 인접한 정점 중에서 아직 방문하지 않은 정점은 큐에 삽입합니다. (`queue.offer()`를 활용)\n",
        "4. 모든 탐색이 완료될 때까지 위의 과정을 반복합니다.\n",
        "\n",
        "BFS는 시작 노드로부터 가장 가까운 노드부터 순차적으로 탐색을 진행하므로, 최단 경로 문제에 효과적으로 활용됩니다. BFS의 특징은 동일한 레벨에 있는 노드들을 먼저 탐색하며, 그래프의 깊이에 따라 탐색 순서가 결정됩니다. 이를 통해 복잡한 구조를 가진 그래프도 체계적으로 탐색하고 이해할 수 있습니다."
      ],
      "metadata": {
        "id": "4Uv0iQllzPEp"
      }
    },
    {
      "cell_type": "code",
      "source": [
        "# deque 라이브러리를 불러오기 - 빠른 큐 연산을 위해 사용\n",
        "from collections import deque\n",
        "\n",
        "def bfs(adjacencyMatrix, visited, startVertex):\n",
        "    result = [] # 탐색한 정점을 순서대로 저장할 결과 리스트 초기화\n",
        "    queue = deque() # 탐색할 정점을 저장할 큐 초기화\n",
        "\n",
        "    queue.append(startVertex) # 시작 정점을 큐에 추가\n",
        "    visited[startVertex] = True # 시작 정점을 방문 처리\n",
        "\n",
        "    while queue: # 큐가 비어있지 않는 동안 반복\n",
        "        currentVertex = queue.popleft() # 큐에서 정점 추출하여 방문\n",
        "        result.append(currentVertex) # 정점을 결과 리스트에 추가\n",
        "\n",
        "        # 해당 정점과 연결된 모든 이웃 정점을 검사\n",
        "        for neighbor in range(len(adjacencyMatrix[currentVertex])):\n",
        "            # 연결된 이웃이 방문하지 않았다면\n",
        "            if adjacencyMatrix[currentVertex][neighbor] == 1 and not visited[neighbor]:\n",
        "                queue.append(neighbor) # 이웃 정점을 큐에 추가\n",
        "                visited[neighbor] = True # 이웃 정점을 방문 처리\n",
        "\n",
        "    return result\n",
        "\n",
        "# 그래프 인접 행렬 예제\n",
        "adjacencyMatrix = [\n",
        "    [0, 1, 1, 0, 0, 0],\n",
        "    [1, 0, 0, 1, 1, 0],\n",
        "    [1, 0, 0, 0, 0, 0],\n",
        "    [0, 1, 0, 0, 1, 1],\n",
        "    [0, 1, 0, 1, 0, 0],\n",
        "    [0, 0, 0, 1, 0, 0]\n",
        "]\n",
        "\n",
        "vertexCount = len(adjacencyMatrix) # 정점의 수 계산\n",
        "visited = [False] * vertexCount # 모든 정점을 '방문하지 않음'으로 초기화\n",
        "\n",
        "startVertex = 0 # 시작 정점 설정\n",
        "traversalResult = bfs(adjacencyMatrix, visited, startVertex) # BFS 호출\n",
        "\n",
        "print(\"너비 우선 탐색 순서:\")\n",
        "for vertex in traversalResult:\n",
        "    print(vertex, end=\" \") # 순서대로 출력"
      ],
      "metadata": {
        "id": "YA5DhKcpztOR"
      },
      "execution_count": null,
      "outputs": []
    },
    {
      "cell_type": "markdown",
      "source": [
        "- **`adjacencyMatrix`**: 그래프의 인접 행렬로 표현되며, 두 정점이 연결되어 있으면 1, 아니면 0의 값을 갖습니다.\n",
        "- **`visited`**: 각 정점의 방문 여부를 저장하는 리스트입니다.\n",
        "- **`startVertex`**: 탐색을 시작할 정점의 인덱스입니다.\n",
        "- **`deque`**: 큐를 효율적으로 구현하기 위해 사용됩니다.\n",
        "\n",
        "---"
      ],
      "metadata": {
        "id": "spV1knnMzvOe"
      }
    },
    {
      "cell_type": "markdown",
      "source": [
        "# ****BFS의 활용 예시****"
      ],
      "metadata": {
        "id": "2Pyzb41GzwJx"
      }
    },
    {
      "cell_type": "markdown",
      "source": [
        "## **최단 경로 탐색**\n",
        "\n",
        "최단 경로 탐색은 그래프 내에서 두 정점 사이의 가장 짧은 경로를 찾는 문제입니다. 가중치가 없는 그래프에서 BFS(너비 우선 탐색)를 사용하면 시작 정점에서 다른 모든 정점까지의 최단 경로를 효과적으로 찾을 수 있습니다."
      ],
      "metadata": {
        "id": "mqaLgtw3zxUG"
      }
    },
    {
      "cell_type": "markdown",
      "source": [
        "### 구현 방법\n",
        "\n",
        "1. **시작 정점 설정:** 시작 정점을 큐에 넣고 방문 처리합니다.\n",
        "2. **레벨 설정:** 시작 정점의 레벨을 0으로 설정합니다.\n",
        "3. **탐색:** 큐가 비어있지 않는 동안 다음을 반복합니다.\n",
        "    - 큐에서 정점을 하나 꺼냅니다.\n",
        "    - 해당 정점에 연결된 모든 이웃 정점을 확인합니다.\n",
        "    - 아직 방문하지 않은 이웃 정점이 있다면, 그 정점의 레벨을 현재 정점의 레벨 + 1로 설정하고 큐에 넣습니다."
      ],
      "metadata": {
        "id": "FO2uksiKzyQY"
      }
    },
    {
      "cell_type": "markdown",
      "source": [
        "### 예제 코드"
      ],
      "metadata": {
        "id": "pX-VqXLGzzAD"
      }
    },
    {
      "cell_type": "code",
      "source": [
        "from collections import deque\n",
        "\n",
        "def bfs_shortest_path(adjacencyMatrix, start):\n",
        "    vertexCount = len(adjacencyMatrix)  # 정점의 수를 저장합니다\n",
        "    visited = [False] * vertexCount     # 각 정점이 방문되었는지를 저장하는 불리언 배열\n",
        "    level = [0] * vertexCount           # 각 정점까지의 최단 경로 길이를 저장하는 배열\n",
        "    queue = deque([start])              # BFS 탐색을 위한 큐, 시작 정점으로 초기화\n",
        "    visited[start] = True               # 시작 정점을 방문했다고 표시\n",
        "\n",
        "    # 큐에 정점이 남아있는 동안 반복\n",
        "    while queue:\n",
        "        vertex = queue.popleft()        # 큐의 앞쪽에서 정점을 꺼냅니다\n",
        "\n",
        "        # 현재 정점과 인접한 모든 정점에 대해\n",
        "        for neighbor in range(vertexCount):\n",
        "            # 인접한 정점이 연결되어 있고 아직 방문되지 않았다면\n",
        "            if adjacencyMatrix[vertex][neighbor] == 1 and not visited[neighbor]:\n",
        "                queue.append(neighbor)   # 인접한 정점을 큐에 추가\n",
        "                visited[neighbor] = True # 해당 정점을 방문했다고 표시\n",
        "                level[neighbor] = level[vertex] + 1 # 현재 정점의 레벨에서 1을 더한 값을 인접한 정점의 레벨로 설정\n",
        "\n",
        "    return level  # 최단 경로 길이를 반환\n",
        "\n",
        "# 그래프의 인접 행렬 표현\n",
        "adjacencyMatrix = [\n",
        "    [0, 1, 1, 0],\n",
        "    [1, 0, 1, 0],\n",
        "    [1, 1, 0, 1],\n",
        "    [0, 0, 1, 0]\n",
        "]\n",
        "\n",
        "start = 0 # 시작 정점\n",
        "shortest_paths = bfs_shortest_path(adjacencyMatrix, start) # 최단 경로를 찾음\n",
        "print(\"최단 경로 길이:\", shortest_paths) # 결과 출력"
      ],
      "metadata": {
        "id": "ZmoSIxLFzzwZ"
      },
      "execution_count": null,
      "outputs": []
    },
    {
      "cell_type": "markdown",
      "source": [
        "## **연결 요소 탐색**\n",
        "\n",
        "연결 요소는 그래프 내에서 서로 연결된 정점의 집합을 의미합니다. 연결 요소를 찾는 것은 그래프가 어떻게 구조화되어 있는지 이해하는 데 중요합니다."
      ],
      "metadata": {
        "id": "mabE9lfwz2sI"
      }
    },
    {
      "cell_type": "markdown",
      "source": [
        "### 구현 방법\n",
        "\n",
        "1. **정점 방문:** 모든 정점에 대해서, 아직 방문하지 않은 정점에서 BFS를 시작합니다.\n",
        "2. **연결 요소 탐색:** BFS를 통해 방문한 모든 정점들은 하나의 연결 요소를 형성합니다."
      ],
      "metadata": {
        "id": "2DUyyQurz4vl"
      }
    },
    {
      "cell_type": "markdown",
      "source": [
        "### 예제 코드"
      ],
      "metadata": {
        "id": "Xgf9BBxVz5ke"
      }
    },
    {
      "cell_type": "code",
      "source": [
        "from collections import deque\n",
        "\n",
        "# 그래프의 연결 요소를 찾는 함수\n",
        "def find_connected_components(adjacencyMatrix):\n",
        "    vertexCount = len(adjacencyMatrix)  # 정점의 수를 저장\n",
        "    visited = [False] * vertexCount  # 방문한 정점을 표시하는 리스트\n",
        "    components = []  # 연결 요소를 저장할 리스트\n",
        "\n",
        "    # 모든 정점에 대해\n",
        "    for vertex in range(vertexCount):\n",
        "        if not visited[vertex]:  # 정점이 아직 방문되지 않았다면\n",
        "            component = bfs(adjacencyMatrix, vertex, visited)  # 해당 정점에서 시작하는 연결 요소를 찾음\n",
        "            components.append(component)  # 찾은 연결 요소를 저장\n",
        "\n",
        "    return components\n",
        "\n",
        "# 너비 우선 탐색 (BFS) 함수\n",
        "def bfs(adjacencyMatrix, start, visited):\n",
        "    vertexCount = len(adjacencyMatrix)  # 정점의 수를 저장\n",
        "    queue = deque([start])  # 탐색을 위한 큐, 시작 정점으로 초기화\n",
        "    visited[start] = True   # 시작 정점을 방문 표시\n",
        "    component = []  # 연결된 정점들을 저장할 리스트\n",
        "\n",
        "    # 큐가 비어있지 않는 동안\n",
        "    while queue:\n",
        "        vertex = queue.popleft()  # 큐에서 정점 추출\n",
        "        component.append(vertex)  # 해당 정점을 연결 요소에 추가\n",
        "\n",
        "        # 해당 정점의 모든 이웃에 대해\n",
        "        for neighbor in range(vertexCount):\n",
        "            if adjacencyMatrix[vertex][neighbor] == 1 and not visited[neighbor]:  # 이웃이 연결되어 있고 아직 방문되지 않았다면\n",
        "                queue.append(neighbor)  # 이웃 정점을 큐에 추가\n",
        "                visited[neighbor] = True  # 이웃 정점을 방문 표시\n",
        "\n",
        "    return component\n",
        "\n",
        "# 그래프의 인접 행렬 표현\n",
        "adjacencyMatrix = [\n",
        "    [0, 1, 0, 0, 0],\n",
        "    [1, 0, 1, 0, 0],\n",
        "    [0, 1, 0, 1, 1],\n",
        "    [0, 0, 1, 0, 0],\n",
        "    [0, 0, 1, 0, 0]\n",
        "]\n",
        "\n",
        "# 연결 요소를 찾음\n",
        "connected_components = find_connected_components(adjacencyMatrix)\n",
        "print(\"연결 요소:\", connected_components)  # 연결 요소 출력"
      ],
      "metadata": {
        "id": "M7WvdXeqz6Qa"
      },
      "execution_count": null,
      "outputs": []
    },
    {
      "cell_type": "markdown",
      "source": [
        "---\n",
        "\n",
        "# ****BFS와 DFS 비교****\n",
        "\n",
        "- **BFS (Breadth-First Search):** BFS는 가장 가까운 정점부터 방문하는 방식입니다. 시작 정점으로부터 거리가 같은 모든 정점을 먼저 방문하고 다음 레벨로 넘어갑니다. 이렇게 하면 최단 경로를 쉽게 찾을 수 있습니다.\n",
        "- **DFS (Depth-First Search):** DFS는 한 방향으로 가능한 한 깊게 탐색한 후, 다시 뒤로 돌아와 다른 방향을 탐색하는 방식입니다. 모든 가능한 경로를 찾을 때 유용합니다."
      ],
      "metadata": {
        "id": "CPLw48iYz7jX"
      }
    },
    {
      "cell_type": "markdown",
      "source": [
        "## 공통점\n",
        "\n",
        "- 두 알고리즘은 그래프의 모든 정점을 방문하는 것을 목표로 합니다.\n",
        "- 구현할 때 재귀 함수나 자료 구조(스택, 큐)를 사용할 수 있습니다."
      ],
      "metadata": {
        "id": "Q0lBrSFQz9ho"
      }
    },
    {
      "cell_type": "markdown",
      "source": [
        "## 차이점\n",
        "\n",
        "- **방문 순서:** BFS는 레벨 순서로, DFS는 경로 순서로 정점을 방문합니다.\n",
        "- **자료 구조:** BFS는 큐를, DFS는 스택을 사용합니다.\n",
        "- **시간 복잡도:** 일반적으로 동일하지만, 그래프의 구조에 따라 다를 수 있습니다."
      ],
      "metadata": {
        "id": "QNzZRmYJz--Q"
      }
    },
    {
      "cell_type": "markdown",
      "source": [
        "## 활용 예시 비교\n",
        "\n",
        "- **BFS:** 최단 경로 찾기, 네트워크 라우팅 등\n",
        "- **DFS:** 미로 생성, 모든 가능한 경로 찾기 등"
      ],
      "metadata": {
        "id": "RrBYFm0lz_06"
      }
    }
  ]
}