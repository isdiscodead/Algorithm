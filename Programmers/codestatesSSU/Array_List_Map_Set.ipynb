{
  "nbformat": 4,
  "nbformat_minor": 0,
  "metadata": {
    "colab": {
      "provenance": []
    },
    "kernelspec": {
      "name": "python3",
      "display_name": "Python 3"
    },
    "language_info": {
      "name": "python"
    }
  },
  "cells": [
    {
      "cell_type": "markdown",
      "source": [
        "# List와 Array란 무엇인가?"
      ],
      "metadata": {
        "id": "8rYM8Py9wsdP"
      }
    },
    {
      "cell_type": "markdown",
      "source": [
        "## List\n",
        "\n",
        "리스트는 파이썬에서 가장 자주 사용되는 데이터 구조 중 하나입니다. 이는 여러 가지 다른 유형의 항목을 저장할 수 있는 유연성 때문입니다. 리스트는 대괄호(`[]`)를 사용하여 생성하며, 각 요소는 쉼표로 구분됩니다."
      ],
      "metadata": {
        "id": "98ov1xhIwt19"
      }
    },
    {
      "cell_type": "code",
      "source": [
        "my_list = [1, \"Hello\", 3.4]\n",
        "list = [0, 1, 2, 3, 4]\n",
        "\n",
        "array = int[5]\n",
        "print(my_list)"
      ],
      "metadata": {
        "id": "b6yoifvQwylj",
        "colab": {
          "base_uri": "https://localhost:8080/",
          "height": 228
        },
        "outputId": "475816c6-1b05-414b-dcc4-a8762784534b"
      },
      "execution_count": null,
      "outputs": [
        {
          "output_type": "error",
          "ename": "TypeError",
          "evalue": "ignored",
          "traceback": [
            "\u001b[0;31m---------------------------------------------------------------------------\u001b[0m",
            "\u001b[0;31mTypeError\u001b[0m                                 Traceback (most recent call last)",
            "\u001b[0;32m<ipython-input-1-84e90d999613>\u001b[0m in \u001b[0;36m<cell line: 4>\u001b[0;34m()\u001b[0m\n\u001b[1;32m      2\u001b[0m \u001b[0mlist\u001b[0m \u001b[0;34m=\u001b[0m \u001b[0;34m[\u001b[0m\u001b[0;36m0\u001b[0m\u001b[0;34m,\u001b[0m \u001b[0;36m1\u001b[0m\u001b[0;34m,\u001b[0m \u001b[0;36m2\u001b[0m\u001b[0;34m,\u001b[0m \u001b[0;36m3\u001b[0m\u001b[0;34m,\u001b[0m \u001b[0;36m4\u001b[0m\u001b[0;34m]\u001b[0m\u001b[0;34m\u001b[0m\u001b[0;34m\u001b[0m\u001b[0m\n\u001b[1;32m      3\u001b[0m \u001b[0;34m\u001b[0m\u001b[0m\n\u001b[0;32m----> 4\u001b[0;31m \u001b[0marray\u001b[0m \u001b[0;34m=\u001b[0m \u001b[0mint\u001b[0m\u001b[0;34m[\u001b[0m\u001b[0;36m5\u001b[0m\u001b[0;34m]\u001b[0m\u001b[0;34m\u001b[0m\u001b[0;34m\u001b[0m\u001b[0m\n\u001b[0m\u001b[1;32m      5\u001b[0m \u001b[0mprint\u001b[0m\u001b[0;34m(\u001b[0m\u001b[0mmy_list\u001b[0m\u001b[0;34m)\u001b[0m\u001b[0;34m\u001b[0m\u001b[0;34m\u001b[0m\u001b[0m\n",
            "\u001b[0;31mTypeError\u001b[0m: 'type' object is not subscriptable"
          ]
        }
      ]
    },
    {
      "cell_type": "markdown",
      "source": [
        "## Array\n",
        "\n",
        "반면에, 배열(array)은 동일한 유형의 값을 저장할 수 있는 구조입니다. 리스트와 달리, 배열의 모든 요소는 동일한 데이터 유형이어야 합니다. 배열은 `array` 모듈을 사용하여 생성할 수 있으며, 별도로 `import`해야 합니다."
      ],
      "metadata": {
        "id": "7hkGIHzAw357"
      }
    },
    {
      "cell_type": "code",
      "source": [
        "import array as arr\n",
        "\n",
        "my_array = arr.array('i', [1, 2, 3])\n",
        "\n",
        "print(my_array)"
      ],
      "metadata": {
        "id": "NqKKHVCKw6e0"
      },
      "execution_count": null,
      "outputs": []
    },
    {
      "cell_type": "markdown",
      "source": [
        "## **List와 Array의 차이점과 공통점**"
      ],
      "metadata": {
        "id": "HF31fncJxBhH"
      }
    },
    {
      "cell_type": "markdown",
      "source": [
        "### **공통점**\n",
        "\n",
        "- 둘 다 순서가 지정된 콜렉션입니다. 즉, 요소는 특정 순서에 따라 저장됩니다.\n",
        "- 둘 다 인덱싱과 슬라이싱을 사용하여 요소에 접근할 수 있습니다. (ex. **`my_list[0]`** 또는 **`my_array[1:3]`**)"
      ],
      "metadata": {
        "id": "1yT6bcaoxE49"
      }
    },
    {
      "cell_type": "markdown",
      "source": [
        "### **차이점**\n",
        "\n",
        "- 리스트는 **다양한 데이터 유형의 요소를 저장**할 수 있지만, 배열은 **동일한 데이터 유형의 요소만 저장**할 수 있습니다.\n",
        "- 배열은 **메모리를 더 효율적으로 사용**합니다. 같은 요소를 저장하면, 배열은 리스트보다 적은 메모리를 사용합니다.\n",
        "- 파이썬의 기본 라이브러리에는 **배열을 다루는 기능이 제한적**이기 때문에, 파이썬에서는 일반적으로 **`NumPy`**와 같은 외부 라이브러리를 사용하여 고급 배열 연산을 수행합니다."
      ],
      "metadata": {
        "id": "f4w-Jx3dxIFz"
      }
    },
    {
      "cell_type": "markdown",
      "source": [
        "# **List의 기본 동작**"
      ],
      "metadata": {
        "id": "0BYcAQ5vxQUa"
      }
    },
    {
      "cell_type": "markdown",
      "source": [
        "## **리스트의 생성과 초기화 방법**"
      ],
      "metadata": {
        "id": "9j2QIpeqxR77"
      }
    },
    {
      "cell_type": "markdown",
      "source": [
        "리스트를 생성하려면 대괄호 **`[]`**를 사용하고, 각 요소를 쉼표 **`,`**로 구분합니다. 이를 이용해 빈 리스트를 생성하거나 초기값을 가진 리스트를 생성할 수 있습니다."
      ],
      "metadata": {
        "id": "3DK58A6FxUAS"
      }
    },
    {
      "cell_type": "code",
      "source": [
        "empty_list = []  # 빈 리스트 생성 []\n",
        "initial_list = [1, 2, 3, 4, 5]  # 초기값을 가진 리스트 생성\n",
        "\n",
        "print(empty_list)\n",
        "print(initial_list)"
      ],
      "metadata": {
        "id": "wpTIkJnwxa1R"
      },
      "execution_count": null,
      "outputs": []
    },
    {
      "cell_type": "markdown",
      "source": [
        "## **리스트의 요소 접근 방법과 수정**\n",
        "\n",
        "리스트의 요소에 접근하려면 인덱스를 사용하며, 이 인덱스는 0부터 시작합니다. 수정할 때도 인덱스를 사용하여 특정 위치의 요소를 변경할 수 있습니다."
      ],
      "metadata": {
        "id": "_AnHbxHLxoxA"
      }
    },
    {
      "cell_type": "code",
      "source": [
        "initial_list = [1, 2, 3, 4, 5]  # 초기값을 가진 리스트 생성\n",
        "\n",
        "initial_list[1] = 20  # 인덱스 1의 요소를 20으로 수정\n",
        "print(initial_list)  # 출력: [1, 20, 3, 4, 5]"
      ],
      "metadata": {
        "id": "ETv_IqLoxpP8"
      },
      "execution_count": null,
      "outputs": []
    },
    {
      "cell_type": "markdown",
      "source": [
        "## **리스트의 크기 조정 (추가, 삭제)**\n",
        "\n",
        "리스트에 요소를 추가하려면 **`append()`** 메서드를 사용하고, 요소를 삭제하려면 **`remove()`** 메서드를 사용합니다."
      ],
      "metadata": {
        "id": "cxzI-jCPxwdg"
      }
    },
    {
      "cell_type": "code",
      "source": [
        "initial_list = [1, 2, 3, 4, 5, 6]  # 초기값을 가진 리스트 생성\n",
        "\n",
        "initial_list.append(20)  # 리스트 끝에 6 추가\n",
        "print(initial_list)  # 출력: [1, 2, 3, 4, 5, 6, 20]\n",
        "initial_list.remove(20)  # 리스트에서 20 삭제\n",
        "print(initial_list)  # 출력: [1, 2, 3, 4, 5, 6]"
      ],
      "metadata": {
        "id": "CXvuzkx5x345",
        "colab": {
          "base_uri": "https://localhost:8080/"
        },
        "outputId": "877f68f2-3e85-4f12-d3cf-8ded79425f1c"
      },
      "execution_count": null,
      "outputs": [
        {
          "output_type": "stream",
          "name": "stdout",
          "text": [
            "[1, 2, 3, 4, 5, 6, 20]\n",
            "[1, 2, 3, 4, 5, 6]\n"
          ]
        }
      ]
    },
    {
      "cell_type": "markdown",
      "source": [
        "리스트에서 특정 위치의 요소를 삭제하려면 **`del`** 키워드 또는 **`pop()`** 메서드를 사용할 수 있습니다. **`pop()`** 메서드는 삭제된 요소를 반환하므로 필요에 따라 사용할 수 있습니다."
      ],
      "metadata": {
        "id": "lBQhhcXAx74q"
      }
    },
    {
      "cell_type": "code",
      "source": [
        "initial_list = [1, 3, 4, 5, 6]  # 초기값을 가진 리스트 생성\n",
        "\n",
        "del initial_list[1]  # 인덱스 1의 요소 삭제\n",
        "print(initial_list)  # 출력: [1, 4, 5, 6]\n",
        "popped_element = initial_list.pop(2)  # 인덱스 2의 요소 삭제 및 반환\n",
        "print(popped_element)  # 출력: 5"
      ],
      "metadata": {
        "id": "Zq-fhedpx-qh",
        "colab": {
          "base_uri": "https://localhost:8080/"
        },
        "outputId": "91886075-db3e-4f69-ae38-6d9c79ade8a7"
      },
      "execution_count": null,
      "outputs": [
        {
          "output_type": "stream",
          "name": "stdout",
          "text": [
            "[1, 4, 5, 6]\n",
            "5\n"
          ]
        }
      ]
    },
    {
      "cell_type": "markdown",
      "source": [
        "# **List의 다양한 활용**"
      ],
      "metadata": {
        "id": "OI9iDQjkyUU4"
      }
    },
    {
      "cell_type": "markdown",
      "source": [
        "## **리스트를 활용한 반복문**\n",
        "\n",
        "파이썬의 리스트는 반복문에서 자주 사용됩니다. **`for`** 문을 이용하여 리스트의 모든 요소에 접근할 수 있습니다."
      ],
      "metadata": {
        "id": "4ocvLalIyWoM"
      }
    },
    {
      "cell_type": "code",
      "source": [
        "my_list = [1, 2, 3, 4, 5]\n",
        "\n",
        "for element in my_list:\n",
        "    print(element)"
      ],
      "metadata": {
        "id": "zWK0GMJgyYcm"
      },
      "execution_count": null,
      "outputs": []
    },
    {
      "cell_type": "markdown",
      "source": [
        "또한, 리스트 컴프리헨션(list comprehension)을 이용하여 리스트를 더욱 간결하게 생성하거나 변형할 수 있습니다."
      ],
      "metadata": {
        "id": "LFg8fpslybNB"
      }
    },
    {
      "cell_type": "code",
      "source": [
        "# 각 요소를 제곱한 새로운 리스트 생성\n",
        "my_list = [1, 2, 3, 4, 5, 6]\n",
        "\n",
        "squares = [x**2 for x in my_list]\n",
        "print(squares)  # 출력: [1, 4, 9, 16, 25]"
      ],
      "metadata": {
        "id": "7zsEAJcSybuQ",
        "colab": {
          "base_uri": "https://localhost:8080/"
        },
        "outputId": "434992dc-58b4-4ec2-fdb5-1c558e7cf020"
      },
      "execution_count": null,
      "outputs": [
        {
          "output_type": "stream",
          "name": "stdout",
          "text": [
            "[1, 4, 9, 16, 25, 36]\n"
          ]
        }
      ]
    },
    {
      "cell_type": "markdown",
      "source": [
        "## **리스트의 정렬 방법**\n",
        "\n",
        "리스트를 정렬하기 위해 **`sort()`** 메서드나 **`sorted()`** 함수를 사용할 수 있습니다. **`sort()`** 메서드는 원본 리스트를 정렬하지만, **`sorted()`** 함수는 정렬된 새로운 리스트를 반환합니다."
      ],
      "metadata": {
        "id": "w7C4qSw5ydZ1"
      }
    },
    {
      "cell_type": "code",
      "source": [
        "my_list = [2, 1, 5, 4, 3]\n",
        "\n",
        "my_list.sort()\n",
        "print(my_list)  # 출력: [1, 2, 3, 4, 5]\n",
        "\n",
        "new_list = sorted([5, 3, 2, 4, 1])\n",
        "print(new_list)  # 출력: [1, 2, 3, 4, 5]"
      ],
      "metadata": {
        "colab": {
          "base_uri": "https://localhost:8080/"
        },
        "id": "5BmoYjmNyfll",
        "outputId": "4795c1df-3ea3-49f7-c349-d7117ba107f5"
      },
      "execution_count": null,
      "outputs": [
        {
          "output_type": "stream",
          "name": "stdout",
          "text": [
            "[1, 2, 3, 4, 5]\n",
            "[1, 2, 3, 4, 5]\n"
          ]
        }
      ]
    },
    {
      "cell_type": "markdown",
      "source": [
        "## **리스트를 활용한 검색**\n",
        "\n",
        "리스트에서 특정 값을 찾기 위해 **`index()`** 메서드나 **`in`** 키워드를 사용할 수 있습니다. **`index()`** 메서드는 찾고자 하는 값의 첫 번째 위치를 반환하며, **`in`** 키워드는 값이 리스트에 있는지 여부를 반환합니다."
      ],
      "metadata": {
        "id": "adIlaDfgytK9"
      }
    },
    {
      "cell_type": "code",
      "source": [
        "my_list = [1, 2, 3, 4, 5]\n",
        "\n",
        "print(my_list.index(3))  # 출력: 2\n",
        "print(3 in my_list)  # 출력: True"
      ],
      "metadata": {
        "id": "aGPmk47nyvf6",
        "colab": {
          "base_uri": "https://localhost:8080/"
        },
        "outputId": "be39eec6-8ada-4005-81ea-94a093bfd621"
      },
      "execution_count": null,
      "outputs": [
        {
          "output_type": "stream",
          "name": "stdout",
          "text": [
            "2\n",
            "True\n"
          ]
        }
      ]
    },
    {
      "cell_type": "markdown",
      "source": [
        "# **Dictionary (Map) 소개**"
      ],
      "metadata": {
        "id": "v9r2PwTMy4lN"
      }
    },
    {
      "cell_type": "markdown",
      "source": [
        "## **Dictionary(Map)의 개념과 특징**\n",
        "\n",
        "파이썬의 Dictionary는 **key와 value의 쌍으로 이루어진 데이터 구조**입니다. 이러한 형식은 매핑(mapping) 형태로, 특정 key를 통해 대응되는 value에 접근할 수 있습니다."
      ],
      "metadata": {
        "id": "dBLSSTxJy7iz"
      }
    },
    {
      "cell_type": "code",
      "source": [
        "my_dict = {'apple': 1, 'banana': 2, 'cherry': 3}\n",
        "\n",
        "print(my_dict['apple'])  # 출력: 1"
      ],
      "metadata": {
        "id": "uGOGugoiy9-0"
      },
      "execution_count": null,
      "outputs": []
    },
    {
      "cell_type": "markdown",
      "source": [
        "Dictionary의 주요 특징 중 하나는 **key를 통해 데이터에 빠르게 접근할 수 있다는 점**입니다.\n",
        "\n",
        "또한, key는 변경 불가능(immutable)한 데이터 타입만 사용할 수 있으며, 각 key는 고유해야 합니다. value는 어떠한 데이터 타입도 가능하며, 중복이 허용됩니다."
      ],
      "metadata": {
        "id": "QYmRNAYRzFgX"
      }
    },
    {
      "cell_type": "markdown",
      "source": [
        "## **Dictionary(Map)과 List/Array의 비교**\n",
        "\n",
        "List와 Array는 순서가 있는(ordered) 데이터 구조이며, 인덱스를 통해 각 요소에 접근합니다. 반면, Dictionary는 순서가 없는(unordered) 데이터 구조로, key를 통해 value에 접근합니다.\n",
        "\n",
        "따라서, List와 Array는 **데이터의 순서가 중요하거나, 인덱스를 통한 접근이 필요한 경우 사용**됩니다. Dictionary는 **key-value 관계를 가진 데이터를 저장하고 처리하는데 적합**합니다."
      ],
      "metadata": {
        "id": "KlBg8qdgzHD0"
      }
    },
    {
      "cell_type": "markdown",
      "source": [
        "# **Dictionary (Map) 기본 동작**"
      ],
      "metadata": {
        "id": "aSFO4sSVz0f1"
      }
    },
    {
      "cell_type": "markdown",
      "source": [
        "## **Dictionary의 생성과 초기화 방법**\n",
        "\n",
        "Dictionary는 중괄호(`{}`) 안에 key-value 쌍을 콜론(`:`)으로 연결하여 초기화합니다."
      ],
      "metadata": {
        "id": "jUBedPmlz1gI"
      }
    },
    {
      "cell_type": "code",
      "source": [
        "# 빈 dictionary 생성\n",
        "my_dict = {}\n",
        "\n",
        "# key-value 쌍을 가진 dictionary 생성\n",
        "my_dict = {'apple': 1, 'banana': 2, 'cherry': 3}\n",
        "print(my_dict)"
      ],
      "metadata": {
        "id": "D-TDH8-Oz3im",
        "colab": {
          "base_uri": "https://localhost:8080/"
        },
        "outputId": "cd2df21a-ef9c-499a-ab21-56618da87cca"
      },
      "execution_count": null,
      "outputs": [
        {
          "output_type": "stream",
          "name": "stdout",
          "text": [
            "{'apple': 1, 'banana': 2, 'cherry': 3}\n"
          ]
        }
      ]
    },
    {
      "cell_type": "markdown",
      "source": [
        "또는 **`dict()`** 생성자를 사용하여 Dictionary를 생성할 수 있습니다."
      ],
      "metadata": {
        "id": "19clPoTuz7q-"
      }
    },
    {
      "cell_type": "code",
      "source": [
        "# dict() 생성자를 사용한 dictionary 생성\n",
        "dixt = dict()\n",
        "my_dict = dict(apple=1, banana=2, cherry=3)\n",
        "\n",
        "print(my_dict)"
      ],
      "metadata": {
        "id": "DxXP6D7Az9di",
        "colab": {
          "base_uri": "https://localhost:8080/"
        },
        "outputId": "b44fda05-d5d2-446a-87ab-561f299b9c0c"
      },
      "execution_count": null,
      "outputs": [
        {
          "output_type": "stream",
          "name": "stdout",
          "text": [
            "{'apple': 1, 'banana': 2, 'cherry': 3}\n"
          ]
        }
      ]
    },
    {
      "cell_type": "markdown",
      "source": [
        "## **Dictionary의 요소 접근 방법과 수정**\n",
        "\n",
        "Dictionary의 요소는 key를 통해 접근합니다."
      ],
      "metadata": {
        "id": "_ONqv8ukz_Z1"
      }
    },
    {
      "cell_type": "code",
      "source": [
        "my_dict = {'apple': 1, 'banana': 2, 'cherry': 3}\n",
        "print(my_dict['apple'])  # 출력: 1"
      ],
      "metadata": {
        "id": "1aGwn-sD0BlS"
      },
      "execution_count": null,
      "outputs": []
    },
    {
      "cell_type": "markdown",
      "source": [
        "또한, 존재하는 key의 value를 변경하거나 새로운 key-value 쌍을 추가할 수 있습니다."
      ],
      "metadata": {
        "id": "9ileFA6e0C3q"
      }
    },
    {
      "cell_type": "code",
      "source": [
        "my_dict = {'apple': 1, 'banana': 2, 'cherry': 3}\n",
        "\n",
        "# value 변경\n",
        "my_dict['apple'] = 4\n",
        "print(my_dict)  # 출력: {'apple': 4, 'banana': 2, 'cherry': 3}\n",
        "\n",
        "# 새로운 key-value 추가\n",
        "my_dict['mango'] = 5\n",
        "print(my_dict)  # 출력: {'apple': 4, 'banana': 2, 'cherry': 3, 'mango': 5}"
      ],
      "metadata": {
        "id": "QGnMKktc0ETR"
      },
      "execution_count": null,
      "outputs": []
    },
    {
      "cell_type": "markdown",
      "source": [
        "## **Dictionary의 크기와 요소 삭제**\n",
        "\n",
        "**`len()`** 함수를 사용하여 Dictionary의 크기(즉, key-value 쌍의 개수)를 알 수 있습니다."
      ],
      "metadata": {
        "id": "CU_Z2YG90IoH"
      }
    },
    {
      "cell_type": "code",
      "source": [
        "my_dict = {'apple': 1, 'banana': 2, 'cherry': 3}\n",
        "\n",
        "print(len(my_dict))  # 출력: 3"
      ],
      "metadata": {
        "id": "V5Bid7pv0Kg6"
      },
      "execution_count": null,
      "outputs": []
    },
    {
      "cell_type": "markdown",
      "source": [
        "**`del`** 키워드나 **`pop()`** 메서드를 사용하여 Dictionary의 요소를 삭제할 수 있습니다."
      ],
      "metadata": {
        "id": "pjTn0lra0MBO"
      }
    },
    {
      "cell_type": "code",
      "source": [
        "my_dict = {'apple': 1, 'banana': 2, 'cherry': 3}\n",
        "\n",
        "# del 키워드를 사용한 요소 삭제\n",
        "del my_dict['apple']\n",
        "print(my_dict)  # 출력: {'banana': 2, 'cherry': 3}\n",
        "\n",
        "# pop() 메서드를 사용한 요소 삭제\n",
        "my_dict.pop('banana')\n",
        "print(my_dict)  # 출력: {'cherry': 3}"
      ],
      "metadata": {
        "id": "Us6WKMvz0NFy"
      },
      "execution_count": null,
      "outputs": []
    },
    {
      "cell_type": "markdown",
      "source": [
        "# **Dictionary (Map)의 활용**"
      ],
      "metadata": {
        "id": "3d6flBzR0Rq8"
      }
    },
    {
      "cell_type": "markdown",
      "source": [
        "## **Dictionary를 활용한 키-값 쌍 추가 및 조회**\n",
        "\n",
        "Dictionary에 새로운 키-값 쌍을 추가하는 방법은 간단합니다. 새로운 키를 지정하고 해당 키에 값을 할당하면 됩니다."
      ],
      "metadata": {
        "id": "CNjqVds80TOp"
      }
    },
    {
      "cell_type": "code",
      "source": [
        "my_dict = {'apple': 1, 'banana': 2}\n",
        "\n",
        "my_dict['cherry'] = 3\n",
        "print(my_dict)  # 출력: {'apple': 1, 'banana': 2, 'cherry': 3}\n"
      ],
      "metadata": {
        "id": "jlxWDbfe0U-k"
      },
      "execution_count": null,
      "outputs": []
    },
    {
      "cell_type": "markdown",
      "source": [
        "Dictionary의 키를 이용하여 해당 키에 대응하는 값을 조회할 수 있습니다."
      ],
      "metadata": {
        "id": "XNRxzv1V4UeW"
      }
    },
    {
      "cell_type": "code",
      "source": [
        "my_dict = {'apple': 1, 'banana': 2}\n",
        "\n",
        "print(my_dict['banana'])  # 출력: 2"
      ],
      "metadata": {
        "id": "Trxrh-tK4V2d"
      },
      "execution_count": null,
      "outputs": []
    },
    {
      "cell_type": "markdown",
      "source": [
        "## **Dictionary의 반복문 활용**\n",
        "\n",
        "Dictionary는 키-값 쌍으로 이루어져 있어서, 이를 반복문에서 활용할 수 있습니다. 반복문을 통해 Dictionary의 모든 키-값 쌍에 접근하고 작업을 수행할 수 있습니다."
      ],
      "metadata": {
        "id": "4k4UZGSl4bCG"
      }
    },
    {
      "cell_type": "code",
      "source": [
        "# 키만 사용하는 경우\n",
        "for key in my_dict:\n",
        "    print(my_dict[key])\n",
        "    print(key)\n",
        "\n",
        "# 출력:\n",
        "# apple\n",
        "# banana\n",
        "# cherry\n",
        "\n",
        "# 키와 값을 함께 사용하는 경우\n",
        "for key, value in my_dict.items():\n",
        "    print(key, value)\n",
        "\n",
        "# 출력:\n",
        "# apple 1\n",
        "# banana 2\n",
        "# cherry 3"
      ],
      "metadata": {
        "id": "Hc_mOl7T4cff"
      },
      "execution_count": null,
      "outputs": []
    },
    {
      "cell_type": "markdown",
      "source": [
        "# **Set**"
      ],
      "metadata": {
        "id": "qG8VqHEf4f3I"
      }
    },
    {
      "cell_type": "markdown",
      "source": [
        "## **Set의 개념과 특징**\n",
        "\n",
        "Set은 파이썬에서 제공하는 기본적인 자료형 중 하나입니다. 이름에서도 알 수 있듯이, Set은 수학에서의 집합과 유사한 개념을 가지고 있습니다.\n",
        "\n",
        "Set은 다음과 같은 특징을 가지고 있습니다.\n",
        "\n",
        "- 중복된 요소를 가질 수 없습니다. 각 요소는 유일(unique)해야 합니다.\n",
        "- Set은 순서가 없습니다. 즉, 인덱스로 요소에 접근할 수 없습니다.\n",
        "- Set은 변경 가능(mutable)합니다. 요소의 추가 또는 삭제가 가능합니다."
      ],
      "metadata": {
        "id": "tI-dH2Or4iUd"
      }
    },
    {
      "cell_type": "code",
      "source": [
        "# Set의 생성\n",
        "list = [1, 2, 3, 4, 5, 5, 5, 5, 2, 2, 1, 1, 0]\n",
        "set1 = set(list)\n",
        "my_set_ = {1, 2, 3, 4, 5, 0}\n",
        "\n",
        "my_set = {1, 2, 3, 3, 3}\n",
        "print(my_set)  # 출력: {1, 2, 3}"
      ],
      "metadata": {
        "id": "P72FUUX94ll0"
      },
      "execution_count": null,
      "outputs": []
    },
    {
      "cell_type": "markdown",
      "source": [
        "## **Set과 List/Array의 차이점**\n",
        "\n",
        "Set과 List/Array는 다음과 같은 주요 차이점을 가지고 있습니다:\n",
        "\n",
        "- **중복 요소**: List/Array는 중복된 요소를 허용하지만, Set은 중복된 요소를 허용하지 않습니다.\n",
        "- **순서**: List/Array는 요소의 순서를 유지하지만, Set은 순서가 없습니다.\n",
        "- **접근 방식**: List/Array는 인덱스를 통해 요소에 접근할 수 있지만, Set은 인덱스로 접근할 수 없습니다.\n",
        "\n",
        "이처럼 Set은 그 특성 상, 중복을 허용하지 않는 데이터의 모임을 다룰 때 효과적입니다. 다음 섹션에서는 Set의 기본적인 연산에 대해 알아보겠습니다."
      ],
      "metadata": {
        "id": "yVYZDEuK4k7F"
      }
    },
    {
      "cell_type": "markdown",
      "source": [
        "# **Set 기본 동작**"
      ],
      "metadata": {
        "id": "4x5_Ptu64pxi"
      }
    },
    {
      "cell_type": "markdown",
      "source": [
        "## **Set의 생성과 초기화 방법**\n",
        "\n",
        "Set은 중괄호 **`{}`** 또는 **`set()`** 함수를 사용해 생성할 수 있습니다. 빈 Set를 생성하려면 **`set()`**을 사용해야 합니다. **`{}`**만 사용하면, 이는 빈 Dictionary를 생성하게 됩니다."
      ],
      "metadata": {
        "id": "CdGUiPZY4rfy"
      }
    },
    {
      "cell_type": "code",
      "source": [
        "# Set 생성\n",
        "my_set = {1, 2, 3}\n",
        "print(my_set)  # 출력: {1, 2, 3}\n",
        "\n",
        "# 빈 Set 생성\n",
        "empty_set = set()\n",
        "print(empty_set)  # 출력: set()"
      ],
      "metadata": {
        "id": "E1AbhvnR4tab"
      },
      "execution_count": null,
      "outputs": []
    },
    {
      "cell_type": "markdown",
      "source": [
        "## **Set에 요소 추가, 삭제**\n",
        "\n",
        "Set에 요소를 추가하려면 **`add()`** 메서드를, 여러 요소를 추가하려면 **`update()`** 메서드를 사용합니다. 요소를 삭제하려면 **`remove()`** 또는 **`discard()`** 메서드를 사용합니다."
      ],
      "metadata": {
        "id": "yrLc84-14u6o"
      }
    },
    {
      "cell_type": "code",
      "source": [
        "my_set = {1, 2, 3}\n",
        "\n",
        "# 요소 추가\n",
        "my_set.add(3)\n",
        "print(my_set)  # 출력: {1, 2, 3, 4}\n",
        "\n",
        "# 여러 요소 추가\n",
        "my_set.update({5, 6})\n",
        "print(my_set)  # 출력: {1, 2, 3, 4, 5, 6}\n",
        "\n",
        "# 요소 삭제\n",
        "my_set.remove(1)\n",
        "print(my_set)  # 출력: {2, 3, 4, 5, 6}"
      ],
      "metadata": {
        "id": "mlFtn7Nx4wI3"
      },
      "execution_count": null,
      "outputs": []
    },
    {
      "cell_type": "markdown",
      "source": [
        "## **Set의 크기와 중복 요소 제거**\n",
        "\n",
        "Set의 크기는 **`len()`** 함수를 사용해 확인할 수 있습니다. 또한, Set은 자동으로 중복된 요소를 제거하기 때문에, 중복 요소를 제거하려면 List나 Array를 Set으로 변환하면 됩니다."
      ],
      "metadata": {
        "id": "HIOldxDE401p"
      }
    },
    {
      "cell_type": "code",
      "source": [
        "my_set = {2, 3, 4, 5, 6}\n",
        "\n",
        "# Set 크기 확인\n",
        "print(len(my_set))  # 출력: 5\n",
        "\n",
        "# 중복 요소 제거\n",
        "my_list = [1, 2, 2, 3, 4, 4, 4, 5, 6, 6]\n",
        "my_set = set(my_list)\n",
        "print(my_set)  # 출력: {1, 2, 3, 4, 5, 6}"
      ],
      "metadata": {
        "id": "BpqcoohR43Fx"
      },
      "execution_count": null,
      "outputs": []
    },
    {
      "cell_type": "markdown",
      "source": [
        "# **Set의 활용**"
      ],
      "metadata": {
        "id": "77Z3d4tb49eW"
      }
    },
    {
      "cell_type": "markdown",
      "source": [
        "## **Set을 활용한 중복 요소 제거**\n",
        "\n",
        "Set은 중복된 요소를 가질 수 없으므로, List나 Array에서 중복 요소를 제거하는데 아주 유용합니다. 아래 예제를 살펴봅시다."
      ],
      "metadata": {
        "id": "b4IOoSl-4-bJ"
      }
    },
    {
      "cell_type": "code",
      "source": [
        "# List에 중복 요소가 있는 경우\n",
        "my_list = [1, 2, 2, 3, 3, 3, 4, 4, 4, 4]\n",
        "# 이를 Set으로 변환하면 중복 요소가 제거됩니다.\n",
        "my_set = set(my_list)\n",
        "print(my_set)  # 출력: {1, 2, 3, 4}"
      ],
      "metadata": {
        "id": "xc5reEal5ARQ"
      },
      "execution_count": null,
      "outputs": []
    },
    {
      "cell_type": "markdown",
      "source": [
        "## **Set을 활용한 교집합, 합집합, 차집합 연산**\n",
        "\n",
        "Set은 교집합, 합집합, 차집합 등의 집합 연산을 지원합니다. 이는 각각 **`intersection()`**, **`union()`**, **`difference()`** 메서드를 통해 수행할 수 있습니다."
      ],
      "metadata": {
        "id": "MiwqJkbA5C6h"
      }
    },
    {
      "cell_type": "code",
      "source": [
        "# 두 Set의 선언\n",
        "set_A = {1, 2, 3, 4}\n",
        "set_B = {3, 4, 5, 6}\n",
        "\n",
        "# 교집합\n",
        "print(set_A.intersection(set_B))  # 출력: {3, 4}\n",
        "\n",
        "# 합집합\n",
        "print(set_A.union(set_B))  # 출력: {1, 2, 3, 4, 5, 6}\n",
        "\n",
        "# 차집합\n",
        "print(set_A.difference(set_B))  # 출력: {1, 2}"
      ],
      "metadata": {
        "id": "iJms1kSY5F5S"
      },
      "execution_count": null,
      "outputs": []
    },
    {
      "cell_type": "markdown",
      "source": [
        "# **실전 응용 예시**"
      ],
      "metadata": {
        "id": "j1C-ZSRB5IjE"
      }
    },
    {
      "cell_type": "markdown",
      "source": [
        "## **문자열 내의 중복 문자 찾기**\n",
        "\n",
        "첫 번째로 살펴볼 실전 예제는 주어진 문자열에서 중복된 문자를 찾는 문제입니다. 이를 위해 우리는 Set과 Dictionary를 조합해 사용할 것입니다."
      ],
      "metadata": {
        "id": "VwjBt1ln5LYU"
      }
    },
    {
      "cell_type": "code",
      "source": [
        "def find_duplicates(s):\n",
        "    duplicates = set()\n",
        "    counts = {}\n",
        "    for letter in s:\n",
        "        if letter in counts and counts[letter] == 1:\n",
        "            duplicates.add(letter)\n",
        "        counts[letter] = counts.get(letter, 0) + 1\n",
        "    return duplicates\n",
        "\n",
        "\n",
        "    for letter in s:\n",
        "        duplicates.add(letter)\n",
        "    return duplicates\n",
        "\n",
        "print(find_duplicates(\"hello world\"))  # 출력: {'h', 'l', 'o'}"
      ],
      "metadata": {
        "id": "-sbl4Qgi5Mf1"
      },
      "execution_count": null,
      "outputs": []
    },
    {
      "cell_type": "markdown",
      "source": [
        "## **모든 학생의 성적 계산**\n",
        "\n",
        "다음으로, Dictionary와 List를 이용해 학생들의 성적을 계산하는 문제를 살펴보겠습니다. 각 학생의 이름을 키로, 그들의 성적을 값으로 하는 Dictionary를 사용하면 편리합니다."
      ],
      "metadata": {
        "id": "dMCVI6lK5Nti"
      }
    },
    {
      "cell_type": "code",
      "source": [
        "def calculate_average_grades(grades):\n",
        "    averages = {}\n",
        "    for student, grades in grades.items():\n",
        "        averages[student] = sum(grades) / len(grades)\n",
        "    return averages\n",
        "\n",
        "grades = {\"John\": [85, 90, 78], \"Sarah\": [92, 88, 90], \"Mike\": [70, 80, 75]}\n",
        "print(calculate_average_grades(grades))  # 출력: {'John': 84.33333333333333, 'Sarah': 90.0, 'Mike': 75.0}"
      ],
      "metadata": {
        "id": "HXhqm71n5O2L"
      },
      "execution_count": null,
      "outputs": []
    },
    {
      "cell_type": "markdown",
      "source": [
        "## **공통 요소 찾기**\n",
        "\n",
        "마지막으로, 두 리스트에서 공통 요소를 찾는 문제를 살펴보겠습니다. 이를 위해 Set의 교집합 연산을 활용할 수 있습니다."
      ],
      "metadata": {
        "id": "wEN1AEUu5P6k"
      }
    },
    {
      "cell_type": "code",
      "source": [
        "def find_common_elements(list1, list2):\n",
        "    return set(list1).intersection(list2)\n",
        "\n",
        "print(find_common_elements([1, 2, 3, 4], [3, 4, 5, 6]))  # 출력: {3, 4}\n"
      ],
      "metadata": {
        "id": "egZlnHVb5Q1_"
      },
      "execution_count": null,
      "outputs": []
    },
    {
      "cell_type": "markdown",
      "source": [
        "## 순서가 있는 딕셔너리 비교"
      ],
      "metadata": {
        "id": "u4qUT9KZVg4C"
      }
    },
    {
      "cell_type": "code",
      "source": [
        "from collections import OrderedDict\n",
        "\n",
        "# 기본 딕셔너리\n",
        "dict_a = {'a': 'apple', 'b': 'banana', 'p': 'pineapple'}\n",
        "dict_b = {'b': 'banana', 'a': 'apple', 'p': 'pineapple'}\n",
        "dict_a == dict_b\n",
        "# True\n",
        "\n",
        "OrderedDict\n",
        "ordered_a = OrderedDict([('a', 'apple'), ('b', 'banana'), ('p', 'pineapple')])\n",
        "ordered_b = OrderedDict([('b', 'banana'), ('a', 'apple'), ('p', 'pineapple')])\n",
        "\n",
        "ordered_a == ordered_b\n",
        "# False"
      ],
      "metadata": {
        "colab": {
          "base_uri": "https://localhost:8080/"
        },
        "id": "qIK_3aXqyFXl",
        "outputId": "f0be207d-a1f4-43ce-e148-245baae753bf"
      },
      "execution_count": null,
      "outputs": [
        {
          "output_type": "execute_result",
          "data": {
            "text/plain": [
              "True"
            ]
          },
          "metadata": {},
          "execution_count": 12
        }
      ]
    }
  ]
}