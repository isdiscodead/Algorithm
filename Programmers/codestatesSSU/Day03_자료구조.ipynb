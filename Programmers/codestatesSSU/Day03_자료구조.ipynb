{
 "cells": [
  {
   "cell_type": "markdown",
   "metadata": {},
   "source": [
    "# 🫠 자료구조"
   ]
  },
  {
   "cell_type": "markdown",
   "metadata": {},
   "source": [
    "= 여러 데이터를 묶어서 저장하고 사용하는 방식을 정의해둔 것 "
   ]
  },
  {
   "cell_type": "markdown",
   "metadata": {},
   "source": [
    "### 선형구조 Linear\n",
    "데이터가 1자로 한 방향으로 이어진 구조"
   ]
  },
  {
   "cell_type": "markdown",
   "metadata": {},
   "source": [
    "### 스택 Stack\n",
    "데이터를 아래서 위로 차례대로 쌓은 구조 -> \n",
    "Last In First Out ( 선입후출 )"
   ]
  },
  {
   "cell_type": "code",
   "execution_count": 1,
   "metadata": {},
   "outputs": [
    {
     "data": {
      "text/plain": [
       "'새 요소'"
      ]
     },
     "execution_count": 1,
     "metadata": {},
     "output_type": "execute_result"
    }
   ],
   "source": [
    "array = []\n",
    "array.append('새 요소')\n",
    "array.pop()"
   ]
  },
  {
   "cell_type": "markdown",
   "metadata": {},
   "source": [
    "### 큐 Queue"
   ]
  },
  {
   "cell_type": "markdown",
   "metadata": {},
   "source": [
    "Rear와 Front를 가지는 Fast In First Out ( 선입선출 )구조 "
   ]
  },
  {
   "cell_type": "markdown",
   "metadata": {},
   "source": [
    "파이썬에서 array로 큐 구현 시 리스트의 크기가 커지면 커질수록 선형 비례해서 시간 복잡도가 높아짐\n",
    "\n",
    "collection.deque -> 큐를 만들어주는 파이썬의 내장 모듈"
   ]
  },
  {
   "cell_type": "markdown",
   "metadata": {},
   "source": [
    "힙은 완전 이진트리로 구현되어있어서,\n",
    "힙 < 트리 < 그래프\n",
    "로 이해하시면 됩니다. \n",
    "\n",
    "우측으로 갈수록 대분류에요 🙂"
   ]
  },
  {
   "cell_type": "markdown",
   "metadata": {},
   "source": [
    "리스트나 디큐나 배열을 활용하지만 디큐에만 달려있는 method들이 유용함 ... ( `popleft()` 등 )"
   ]
  },
  {
   "cell_type": "markdown",
   "metadata": {},
   "source": [
    "## 문제 풀이"
   ]
  },
  {
   "cell_type": "markdown",
   "metadata": {},
   "source": [
    "### 1. 같은 숫자는 싫어\n",
    "\n"
   ]
  },
  {
   "cell_type": "markdown",
   "metadata": {},
   "source": []
  },
  {
   "cell_type": "code",
   "execution_count": 4,
   "metadata": {},
   "outputs": [],
   "source": [
    "'''\n",
    "배열 arr가 주어짐 -> 각 요소가 숫자 0~9\n",
    "연속으로 나타나는 숫자는 맨 앞의 하나만 남김, 순서는 그대로 유지\n",
    "\n",
    "-> 스택 (배열) 사용\n",
    "주어진 원본 배열에서 하나씩 일단 빼서 스택에 담음\n",
    "담은 요소 !== 담을 요소일 경우에만 스택에 담아줌 \n",
    "이후 뒤집어주기 . . .\n",
    "'''\n",
    "\n",
    "def solution(arr):\n",
    "    answer = []\n",
    "\n",
    "    for idx in range(len(arr)):\n",
    "        if idx == 0:\n",
    "            answer.append(arr[idx])\n",
    "        else:\n",
    "            if arr[idx] != arr[idx-1]:\n",
    "                answer.append(arr[idx])\n",
    "        \n",
    "    return answer"
   ]
  },
  {
   "cell_type": "markdown",
   "metadata": {},
   "source": [
    "### 2. 올바른 괄호"
   ]
  },
  {
   "cell_type": "code",
   "execution_count": 5,
   "metadata": {},
   "outputs": [],
   "source": [
    "'''\n",
    "스택 ...\n",
    "스택에 (를 다 담고 )가 있을 때마다 뽑아줌\n",
    "남는 게 있으면 invalid\n",
    "문자열도 배열처럼 접근 ... 당연함\n",
    "'''\n",
    "\n",
    "def solution(s):\n",
    "    answer = True\n",
    "    stack = []\n",
    "    \n",
    "    for i in s:\n",
    "        if i == '(':\n",
    "            stack.append('(')\n",
    "        else:\n",
    "            if ( len(s) == 0 ):\n",
    "                return False\n",
    "            else:\n",
    "                stack.pop()\n",
    "\n",
    "    if stack:\n",
    "        answer = False # 짝이 안 맞음\n",
    "\n",
    "\n",
    "    return answer"
   ]
  },
  {
   "cell_type": "code",
   "execution_count": null,
   "metadata": {},
   "outputs": [],
   "source": [
    "def solution(s):\n",
    "    answer = True\n",
    "    stack = []\n",
    "    hashmap = {\"(\" : \")\" } # {}, (), [] 모두 들어오는 경우 이렇게 해쉬맵 사용하면 좋음\n",
    "\n",
    "    for i in s:\n",
    "        if i == '(':\n",
    "            stack.append('(')\n",
    "        else:\n",
    "            if len(stack) == 0 or hashmap[stack.pop()] != i:\n",
    "                return False\n",
    "\n",
    "    if stack:\n",
    "        answer = False # 짝이 안 맞음\n",
    "\n",
    "    return answer"
   ]
  },
  {
   "cell_type": "markdown",
   "metadata": {},
   "source": [
    "### 3. 기능 개발"
   ]
  },
  {
   "cell_type": "code",
   "execution_count": null,
   "metadata": {},
   "outputs": [],
   "source": [
    "'''\n",
    "1. 각 기능은 진도가 100%일 때 서비스에 반영\n",
    "2. progress 배열에 있는 요소는 먼저 배포되어야 하는 순서\n",
    "3. speeds 배열의 요소 = 작업의 개발 속도\n",
    "4. 배포 한 번 할 때마다 몇 개의 기능이 배포?\n",
    "\n",
    "-> 큐를 사용\n",
    "2번 부분 때문 ... 선 입 선 출 ! \n",
    "\n",
    "작업 일수부터 계산해야 함 -> 한 번 배포될 때 몇 개씩 나갈지 계산 가능ㅁㅈ\n",
    "'''\n",
    "\n",
    "def solution(progresses, speeds):\n",
    "    # 한 번에 몇 개씩 배포할 건지\n",
    "    answer = []\n",
    "\n",
    "    # 한 번에 배포되는 개수 누적 체크\n",
    "    count = 0\n",
    "\n",
    "    # 개발 완료까지 남은 일수\n",
    "    release = []\n",
    "\n",
    "    # 작업 일수 = 올림((100 - progresses[1]) / speeds[1])\n",
    "    for i in range(len(progresses)):\n",
    "        release_day = math.ceil((100 - progresses[i]) / speeds[i])\n",
    "        release.append(release_day)\n",
    "\n",
    "    current = release[0]\n",
    "\n",
    "    while release:\n",
    "        # current / 현재 기능과 비교해서 배포 가능하다면 current 보다 작거나 같은 거\n",
    "        if release[0] <= current:\n",
    "            count += 1\n",
    "            release.pop(0)\n",
    "        else:\n",
    "            answer.append(count)\n",
    "            count = 0\n",
    "            count = release[0]\n",
    "\n",
    "    # 큐가 빈 상태\n",
    "    answer.append(count)\n",
    "\n",
    "    return answer"
   ]
  },
  {
   "cell_type": "markdown",
   "metadata": {},
   "source": [
    "### 4. 프로세스"
   ]
  },
  {
   "cell_type": "code",
   "execution_count": null,
   "metadata": {},
   "outputs": [],
   "source": [
    "'''\n",
    "우선순위 큐를 사용해야 하는 문제 ... ( 문제에 쓰여있음 )\n",
    "순서 존재하는 큐 . .  .\n",
    "location도 생각해야 .  . .  원래 location에 위치했던 요소가 배열에 차곡차곡 담겼을 때 몇 번째 인덱스 ? \n",
    "-> 원 배열에 담겨있던 요소의 인덱스를 튜플로 기억해두기 ( 우선순위, 기존 인덱스 )\n",
    "'''\n",
    "\n",
    "from collections import deque\n",
    "\n",
    "def solution(priorities, location):\n",
    "    result = []\n",
    "    queue = deque()\n",
    "\n",
    "    # 우선 순위, 기존 인덱스 큐로 변환\n",
    "    for idx in range(len(priorities)):\n",
    "        queue.append(priorities[idx], idx)\n",
    "\n",
    "    # 파이썬스럽게 ... 접근 ... 위와 같은 코드임 \n",
    "    '''\n",
    "    for idx, priority in enumerate(priorities):\n",
    "        queue.append(priority, idx)\n",
    "    '''\n",
    "\n",
    "    while queue:\n",
    "        current = queue.popleft()\n",
    "\n",
    "        # 큐 내에서 더 큰 우선 순위가 있는지 확인\n",
    "        # any() -> list의 원소를 필터링하거나 조건을 검사\n",
    "        # current = (2, 0)이라고 할 때 current[0] = 2 -> 현재 프로세스의 우선 순위\n",
    "        # idx[0] -> 현재 순회 중인 프로세스의 우선 순위\n",
    "        if any( current[0] < idx[0] for idx in queue ): \n",
    "            queue.append(current)\n",
    "\n",
    "        else:\n",
    "            result.append(current)\n",
    "\n",
    "    # result라는 배열 안에 (우선 순위, 인덱스) 형태로 들어있음\n",
    "    # priority[1] == 초기 인덱스 자리 \n",
    "    for idx, priority in enumerate(result):\n",
    "        if ( priority[1] == location ) : # 찾고자 하는 프로세스\n",
    "            return idx + 1"
   ]
  },
  {
   "cell_type": "code",
   "execution_count": null,
   "metadata": {},
   "outputs": [],
   "source": [
    "from collections import deque\n",
    "\n",
    "def solution(priorities, location):\n",
    "    result = []\n",
    "    queue = deque()\n",
    "\n",
    "    # 우선 순위, 기존 인덱스 큐로 변환\n",
    "    for idx in range(len(priorities)):\n",
    "        queue.append(priorities[idx], idx)\n",
    "\n",
    "    # 파이썬스럽게 ... 접근 ... 위와 같은 코드임 \n",
    "    '''\n",
    "    for idx, priority in enumerate(priorities):\n",
    "        queue.append(priority, idx)\n",
    "    '''\n",
    "\n",
    "    while queue:\n",
    "        current = queue.popleft()\n",
    "\n",
    "        # 큐 내에서 더 큰 우선 순위가 있는지 확인\n",
    "        # any() -> list의 원소를 필터링하거나 조건을 검사\n",
    "        # current = (2, 0)이라고 할 때 current[0] = 2 -> 현재 프로세스의 우선 순위\n",
    "        # idx[0] -> 현재 순회 중인 프로세스의 우선 순위\n",
    "        if any( current[0] < idx[0] for idx in queue ): \n",
    "            queue.append(current)\n",
    "\n",
    "        else:\n",
    "            result.append(current)  \n",
    "\n",
    "            # else 문 안에서 해결도 가능 \n",
    "            # current의 초기 인덱스 == location\n",
    "            if current[1] == location:\n",
    "                # 여태까지 result에는 실행된 프로세스가 담김\n",
    "                return len(result)"
   ]
  },
  {
   "cell_type": "markdown",
   "metadata": {},
   "source": [
    "### 5. 주식 가격"
   ]
  },
  {
   "cell_type": "code",
   "execution_count": 6,
   "metadata": {},
   "outputs": [
    {
     "data": {
      "text/plain": [
       "' \\n느엥 .ㅣ. .머라는거야 \\n\\n완전탐색( 이중 for문 사용 ), 스택, 큐로도 풀 수 있음 ( 실행 시간 차이 있음 )\\n'"
      ]
     },
     "execution_count": 6,
     "metadata": {},
     "output_type": "execute_result"
    }
   ],
   "source": [
    "''' \n",
    "느엥 .ㅣ. .머라는거야 \n",
    "\n",
    "완전탐색( 이중 for문 사용 ), 스택, 큐로도 풀 수 있음 ( 실행 시간 차이 있음 )\n",
    "'''"
   ]
  },
  {
   "cell_type": "markdown",
   "metadata": {},
   "source": []
  }
 ],
 "metadata": {
  "kernelspec": {
   "display_name": "Python 3",
   "language": "python",
   "name": "python3"
  },
  "language_info": {
   "codemirror_mode": {
    "name": "ipython",
    "version": 3
   },
   "file_extension": ".py",
   "mimetype": "text/x-python",
   "name": "python",
   "nbconvert_exporter": "python",
   "pygments_lexer": "ipython3",
   "version": "3.9.6"
  },
  "orig_nbformat": 4
 },
 "nbformat": 4,
 "nbformat_minor": 2
}
