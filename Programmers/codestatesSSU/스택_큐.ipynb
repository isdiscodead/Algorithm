{
  "nbformat": 4,
  "nbformat_minor": 0,
  "metadata": {
    "colab": {
      "provenance": [],
      "toc_visible": true
    },
    "kernelspec": {
      "name": "python3",
      "display_name": "Python 3"
    },
    "language_info": {
      "name": "python"
    }
  },
  "cells": [
    {
      "cell_type": "markdown",
      "source": [
        "# ****스택(Stack)의 개념과 특징****"
      ],
      "metadata": {
        "id": "MlfD0SPsE-za"
      }
    },
    {
      "cell_type": "markdown",
      "source": [
        "## **Stack의 정의**\n",
        "\n",
        "스택은 **쌓다**, **누적하다**라는 의미를 가지고 있습니다. 마치 접시를 쌓아 놓은 것처럼 **데이터(data)를 순서대로 쌓는 자료 구조**입니다.\n",
        "\n",
        "스택과 유사한 예를 들어보겠습니다:\n",
        "\n",
        "> 동그란 원통에 차례대로 구슬을 넣는다고 상상해 보세요. 우리는 원통의 맨 위에 뚫려있는 구멍을 통해 구슬을 넣을 수 있고, 구술을 뺄 때 또한 원통의 맨 위에 뚫려있는 구멍을 통해 맨 위에 있는 구슬을 먼저 뺄 수 있습니다.\n",
        ">\n",
        "\n",
        "일상생활에서도 스택과 유사한 예를 찾을 수 있습니다:\n",
        "\n",
        "> 다섯 대의 자동차가 좁은 골목길을 순서대로 지나가고 있습니다. 이 골목길은 한 방향으로만 통행할 수 있으며, 골목의 끝은 막혀 있습니다. 첫 번째 자동차가 골목길에 진입하고, 그 뒤를 이어 나머지 자동차들도 순서대로 진입합니다. 그러나 첫 번째 차량이 막다른 길을 만나게 되면, 마지막으로 들어온 다섯 번째 자동차부터 차례대로 후진하여 골목길을 빠져나가야 합니다.\n",
        ">"
      ],
      "metadata": {
        "id": "08avFEUPFAH-"
      }
    },
    {
      "cell_type": "markdown",
      "source": [
        "## Stack의 구조\n",
        "위의 예시에서 원통을 자료구조 Stack, 구슬을 데이터(data)로 비유할 수 있습니다.\n",
        "\n",
        "우리가 구슬을 차례대로 원통에 넣었을 때 가장 나중에 넣은 구슬이 원통의 가장 상단에 자리 잡고 있습니다.\n",
        "그렇기 때문에 구슬을 빼는 경우에 가장 나중에 넣었던, 즉 원통 상단에 위치한 구슬을 가장 먼저 뺄 수 있습니다.\n",
        "\n",
        "또한 골목길을 스택에 비유하고, 자동차를 데이터에 비유할 수 있습니다.\n",
        "\n",
        "<img src=\"https://github.com/kdh-92/Tiggle/assets/58800295/2b77ac37-b45f-4125-a56e-57ac10643a7b\" alt=\"골목길_스택\" />\n",
        "\n",
        "<br/>\n",
        "\n",
        "이 예시에서 볼 수 있듯이, **가장 먼저 들어간 자동차는 가장 나중에** 나올 수 있습니다. 반대로 말하면, **가장 나중에 들어간 자동차가 가장 먼저** 나올 수 있습니다.\n",
        "\n",
        "즉 stack의 구조는 이렇게 볼 수 있습니다.\n",
        "- 자료구조 Stack의 특징은 입력과 출력이 하나의 방향, 즉 스택의 최상단에서만 이루어지며, 이를 **제한적 접근**이라고 합니다.\n",
        "- 이런 Stack 자료구조의 정책을 **LIFO(Last In First Out)** 혹은 **FILO(First In Last Out)**라고 부르기도 합니다.\n",
        "- Stack에 데이터를 넣는 것을 **'PUSH'**, 데이터를 꺼내는 것을 **'POP'**이라고 합니다."
      ],
      "metadata": {
        "id": "8okcV-qLZsN2"
      }
    },
    {
      "cell_type": "markdown",
      "source": [
        "## **Stack의 특징**\n",
        "\n",
        "### 1. LIFO(Last In First Out)\n",
        "먼저 들어간 데이터는 제일 나중에 나오는 후입선출의 구조로 되어 있습니다.\n",
        "\n",
        "```\n",
        "예1) 데이터 1, 2, 3, 4를 스택에 차례대로 넣습니다.\n",
        "\n",
        "stack.push(데이터)\n",
        "\n",
        "|  4  | <- top\n",
        "|  3  |\n",
        "|  2  |\n",
        "|  1  |\n",
        "\n",
        "데이터 1이 제일 먼저 들어가고 데이터 4가 마지막으로 들어가게 됩니다.\n",
        "\n",
        "예2) 스택이 빌 때까지 데이터를 전부 빼냅니다.\n",
        "\n",
        "stack.pop()\n",
        "\n",
        "|    |\n",
        "|    |\n",
        "|    |\n",
        "|    |\n",
        "\n",
        "4, 3, 2, 1\n",
        "\n",
        "제일 마지막에 있는 데이터인 4부터 차례대로 나오게 됩니다.\n",
        "```\n",
        "이러한 특성으로 인해 스택 구조 내에서 특정 데이터를 조회할 수 없으며, 스택의 최상단에서만 데이터를 저장하고 꺼낼 수 있는 특징이 있습니다.\n",
        "\n",
        "<br/>\n",
        "\n",
        "### 2. 하나의 입출력 방향을 가지고 있습니다.\n",
        "Stack 자료구조는 데이터를 넣고 뺄 수 있는 곳이 **스택의 가장 최상단으로 오직 한 군데**입니다. 즉 데이터를 넣을 때(입력) 스택의 가장 최상단에 넣고, 뺄 때(출력) 또한 스택의 가장 최상단에서부터 데이터를 뺄 수 있습니다.\n",
        "\n",
        "<br/>\n",
        "\n",
        "### 3. 데이터는 하나씩 넣고 뺄 수 있습니다.\n",
        "앞서 말했듯, Stack 자료구조는 데이터를 넣고 뺄 수 있는 경로가 스택의 최상단, 한 군데이기 때문에 스택 내부에 데이터를 넣을 때도 하나씩 최상단을 통해 넣고 데이터를 뺄 때 또한 항상 스택 최상단에서 하나씩 데이터를 뺄 수 있습니다.\n",
        "\n",
        "즉, 스택에 한 개씩 여러 번 데이터를 넣어 스택 내부에 데이터가 여러 개 쌓여 있다고 하더라도 **데이터를 뺄 때는 스택의 가장 최상단에서 한 번에 한 개의 데이터만** 뺄 수 있습니다."
      ],
      "metadata": {
        "id": "J__0nM8eFD4m"
      }
    },
    {
      "cell_type": "markdown",
      "source": [
        "## **Stack 자료 구조의 장점**\n",
        "\n",
        "Stack 자료 구조의 장점으로는 **스택에 저장된 데이터를 가져오는 속도가 매우 빠르다**는 점이 있습니다.\n",
        "\n",
        "스택은 후입선출(LIFO) 구조를 가지기 때문에, 삽입과 삭제가 항상 스택의 맨 위에서 이루어집니다. 따라서 스택에서 데이터를 삽입하거나 삭제할 때, 다른 데이터의 위치를 변경할 필요가 없습니다. 데이터를 저장할 때나 검색할 때 항상 스택의 최상단에서만 행위가 이루어지기 때문에 데이터를 저장하고 검색하는 프로세스가 매우 빠릅니다.\n",
        "\n",
        "예를 들어, 스택에서 삽입 연산을 수행하면, 새로운 데이터는 스택의 맨 위에 추가됩니다. 스택의 다른 데이터들은 그대로 놔둔 채로 새로운 데이터가 맨 위에 추가됩니다. 이와 마찬가지로 스택에서 삭제 연산을 수행하면, 맨 위에 있는 데이터가 삭제되고, 다른 데이터의 위치는 변경되지 않습니다.\n",
        "\n",
        "이 과정은 **스택의 크기와는 상관없이 항상 매우 빠르게 처리**됩니다. 데이터를 삽입, 삭제하는데 모든 데이터를 순회할 필요가 없기 때문입니다."
      ],
      "metadata": {
        "id": "mxVN-qrtFFb6"
      }
    },
    {
      "cell_type": "markdown",
      "source": [
        "## **Stack 자료 구조의 단점**\n",
        "\n",
        "Stack 자료 구조의 단점으로는 먼저 **중간 요소의 접근이 제한된다**는 점입니다.\n",
        "\n",
        "스택은 **상단(top) 요소에만 직접적인 접근이 가능**하며, **중간에 있는 요소에는 직접적인 접근이 불가능**합니다. 중간 요소에 접근하려면 상단 요소를 Pop하여 원하는 요소에 도달해야 합니다.\n",
        "\n",
        "또 다른 단점으로는 스택은 크기를 고정해서 사용하는 자료구조이므로 데이터 최대 개수를 미리 정해야 한다는 점입니다. 만약 스택의 크기를 초과하여 데이터를 저장하려고 하면 \"스택 오버플로우(Stack Overflow)\"가 발생할 수 있습니다. 이로 인해 스택을 동적할당 방식으로 구현하기도 합니다. 동적할당은 초기에 메모리 공간을 정해두지 않고, 필요할 때마다 할당하는 방식으로 데이터 삽입, 삭제하는 경우 O(1)에 가능하며, (최대 메모리 공간 내에서) 리스트 크기 제한이 없다는 특징이 있습니다."
      ],
      "metadata": {
        "id": "EyEl6HTWFGzL"
      }
    },
    {
      "cell_type": "markdown",
      "source": [
        "## **Stack의 활용**\n",
        "\n",
        "컴퓨터에서 자료구조 Stack은 어떤 곳에 사용되고 있을까요? 대표적으로 우리가 자주 사용하는 브라우저의 뒤로 가기, 앞으로 가기 기능을 구현할 때 자료구조 Stack이 활용됩니다.\n",
        "\n",
        "<br/>\n",
        "\n",
        "**웹 브라우저 방문 기록**:\n",
        "\n",
        "![image (1)](https://github.com/codestates-seb/fe-sprint-my-agora-states/assets/75019459/7eb781d4-d0f8-42d5-87e7-3e444193b2ca)\n",
        "\n",
        "웹 브라우저의 \"뒤로 가기\"와 \"앞으로 가기\" 기능이 스택을 사용합니다. 예시를 좀 더 자세히 살펴보겠습니다. 이 기능을 이해하기 위해서는 두 개의 스택이 사용된다는 것을 알아야 합니다.\n",
        "\n",
        "하나는 방문한 페이지의 이력을 저장하는 **\"뒤로 가기\" 스택(Prev Stack)**, 다른 하나는 \"뒤로 가기\"를 한 후에 \"앞으로 가기\"를 할 수 있도록 정보를 저장하는 **\"앞으로 가기\" 스택(Next Stack)**입니다. 이를 기억하며 다음 순서를 살펴보겠습니다.\n",
        "\n",
        "<br/>\n",
        "\n",
        "**브라우저에서 Stack이 사용될 때는 다음과 같은 순서를 거칩니다.**\n",
        "\n",
        "1. 사용자가 웹페이지를 방문할 때마다, 현재 페이지를 Prev Stack에 보관합니다.\n",
        "2. 사용자가 \"뒤로 가기\" 버튼을 클릭하면, 현재 페이지를 Next Stack에 push하고 Prev Stack에서 가장 나중에 보관된 페이지를 pop하여 현재 페이지로 설정합니다.\n",
        "3. 사용자가 \"앞으로 가기\" 버튼을 클릭하면, 현재 페이지를 Prev Stack에 push하고 Next Stack의 **가장 마지막으로 보관된 페이지**를 pop하여 현재 페이지로 설정합니다.\n",
        "\n",
        "\n",
        "<br/>\n",
        "\n",
        "이 외에도 컴퓨터 내부의 프로세스 구조, 프로그래밍 언어의 메모리 관리, 문자열 역순 출력 등에 스택이 사용됩니다."
      ],
      "metadata": {
        "id": "0OXZJRGJFIck"
      }
    },
    {
      "cell_type": "markdown",
      "source": [
        "# **스택(Stack)의 기본 동작**\n",
        "\n",
        "스택은 선형 자료구조이며 일렬로 나열된 요소들의 집합입니다.\n",
        "\n",
        "이 요소들은 스택의 최상단(top)을 기준으로 쌓이며, 스택의 맨 아래에 위치한 요소는 스택의 바닥(bottom)이라고 합니다."
      ],
      "metadata": {
        "id": "Za4bbkNtFLfM"
      }
    },
    {
      "cell_type": "markdown",
      "source": [
        "## **`push()`**\n",
        "\n",
        "- `push()`는 **스택에 새로운 요소를 추가**하는 작업입니다.\n",
        "- 새로운 요소는 스택의 최상단(top)에 삽입됩니다.\n",
        "- 스택이 비어있을 경우, **첫 번째 요소가 바닥(bottom)이자 최상단(top)**이 됩니다."
      ],
      "metadata": {
        "id": "zxC1RdW3FXzC"
      }
    },
    {
      "cell_type": "code",
      "source": [
        "def push(stack, item):\n",
        "    stack.append(item)\n",
        "\n",
        "# 사용 예\n",
        "stack = []\n",
        "push(stack, \"apple\")\n",
        "push(stack, \"banana\")\n",
        "push(stack, \"cherry\")\n",
        "print(stack)  # ['apple', 'banana', 'cherry']\n",
        "\n",
        "# 리스트만 활용했을 경우\n",
        "\n",
        "stack = []\n",
        "\n",
        "stack.append(1)\n",
        "print(stack) # [1]\n",
        "\n",
        "stack.append(2)\n",
        "print(stack) # [1, 2]\n",
        "\n",
        "stack.append(3)\n",
        "print(stack) # [1, 2, 3]"
      ],
      "metadata": {
        "id": "oXOC5nnCFaD4"
      },
      "execution_count": null,
      "outputs": []
    },
    {
      "cell_type": "markdown",
      "source": [
        "## **`pop()`**\n",
        "\n",
        "- `pop()`은 **상단에 위치한 요소를 제거하고 반환**하는 작업입니다.\n",
        "- 가장 최근에 추가된 요소가 가장 먼저 제거됩니다.\n",
        "- `pop()`을 수행하면 상단 요소는 제거되며, **그 아래에 위치한 요소가 새로운 상단(top)**이 됩니다."
      ],
      "metadata": {
        "id": "J-Wn49WrFbLF"
      }
    },
    {
      "cell_type": "code",
      "source": [
        "def pop(stack):\n",
        "    if not stack:\n",
        "        return \"Stack is empty.\"\n",
        "    else:\n",
        "        return stack.pop()\n",
        "\n",
        "# 사용 예\n",
        "stack = [\"apple\", \"banana\", \"cherry\"]\n",
        "print(pop(stack))  # 'cherry'\n",
        "print(stack)  # ['apple', 'banana']\n",
        "\n",
        "# 리스트만 활용했을 경우\n",
        "stack = [1, 2, 3]\n",
        "\n",
        "stack.pop()\n",
        "print(stack) # [2, 1]\n",
        "\n",
        "stack.pop()\n",
        "print(stack) # [1]\n",
        "\n",
        "stack.pop()\n",
        "print(stack) # []"
      ],
      "metadata": {
        "id": "GitBW6UYFdT0"
      },
      "execution_count": null,
      "outputs": []
    },
    {
      "cell_type": "markdown",
      "source": [
        "## **`peek()`**\n",
        "\n",
        "- `peek()`은 **상단에 위치한 요소를 반환**하는 작업입니다.\n",
        "- `peek()`을 통해 상단에 위치한 요소를 확인할 수 있습니다.\n",
        "- `peek()`을 수행하더라도 **요소가 제거되지 않습니다.**"
      ],
      "metadata": {
        "id": "F_WPMpsOFf6S"
      }
    },
    {
      "cell_type": "code",
      "source": [
        "def peek(stack):\n",
        "    if not stack:\n",
        "        return \"Stack is empty.\"\n",
        "    else:\n",
        "        return stack[-1]\n",
        "\n",
        "# 사용 예\n",
        "stack = [\"apple\", \"banana\", \"cherry\"]\n",
        "print(peek(stack))  # 'cherry'\n",
        "\n",
        "# 리스트만 활용했을 경우\n",
        "stack = [1, 2, 3]\n",
        "print(stack[-1]) # [3]\n",
        "\n",
        "stack.pop()\n",
        "print(stack[-1]) # [2]\n",
        "\n",
        "stack.pop()\n",
        "print(stack[-1]) # [1]\n",
        "print(stack[-1]) # [1]"
      ],
      "metadata": {
        "id": "87Nnl_qHFg9Q"
      },
      "execution_count": null,
      "outputs": []
    },
    {
      "cell_type": "markdown",
      "source": [
        "## `isEmpty`\n",
        "\n",
        "- `isEmpty`는 **스택이 비어있는지 확인**하는 작업입니다.\n",
        "- **스택이 비어있을 경우 `true`를 반환**하고, **비어있지 않을 경우 `false`를 반환**합니다."
      ],
      "metadata": {
        "id": "QNcN9CaLFiQv"
      }
    },
    {
      "cell_type": "code",
      "source": [
        "def top(stack):\n",
        "    if not stack:\n",
        "        return \"Stack is empty.\"\n",
        "    else:\n",
        "        return stack[-1]\n",
        "\n",
        "# 사용 예\n",
        "stack = [\"apple\", \"banana\", \"cherry\"]\n",
        "print(top(stack))  # 'cherry'\n",
        "\n",
        "# 리스트만 활용했을 경우\n",
        "stack = [1, 2, 3]\n",
        "isEmpty = False;\n",
        "\n",
        "if len(stack) == 0:\n",
        "\t\tisEmpty = True\n",
        "else:\n",
        "\t\tisEmpty = False\n",
        "\n",
        "print(isEmpty) # False"
      ],
      "metadata": {
        "id": "2SeZyqG5FjwH"
      },
      "execution_count": null,
      "outputs": []
    },
    {
      "cell_type": "markdown",
      "source": [
        "# **스택(Stack)의 시간 복잡도와 공간 복잡도**"
      ],
      "metadata": {
        "id": "TBL_5ZUAFlAj"
      }
    },
    {
      "cell_type": "markdown",
      "source": [
        "## **Stack의 시간복잡도(Time Complexity)**\n",
        "\n",
        "스택은 그 특성상 데이터를 추가하거나 제거하는 데 있어서 상수 시간, 즉 O(1)의 시간 복잡도를 가집니다. 이는 상단에 위치한 요소에만 접근하고 조작하기 때문입니다. 따라서 스택의 크기와 무관하게, 스택의 주요 동작들은 모두 상수 시간에 수행됩니다.\n",
        "\n",
        "- **`Push()`**: 상단에 요소를 추가하면 되기 때문에 상수 시간에 완료됩니다.\n",
        "- **`Pop()`**: 상단에 위치한 요소를 제거하면 되기 때문에 상수 시간에 완료됩니다.\n",
        "- **`Peek()`**: 상단에 위치한 요소를 직접 접근할 수 있기 때문에 상수 시간에 완료됩니다.\n",
        "- **`IsEmpty`**: 상단이 -1인지를 확인하면 되기 때문에 상수 시간에 완료됩니다."
      ],
      "metadata": {
        "id": "x0-wrpRAFm-Z"
      }
    },
    {
      "cell_type": "markdown",
      "source": [
        "## **Stack의 공간복잡도(Space Complexity)**\n",
        "\n",
        "스택의 공간복잡도는 구현하는 방식에 따라 다릅니다.\n",
        "\n",
        "- **배열(Array) 기반 구현**: 미리 정의된 크기의 배열을 사용하여 구현합니다. 스택의 크기가 고정되어 있으므로, 배열의 크기 n만큼의 공간이 필요합니다. 배열 기반 스택의 공간복잡도는 O(n)입니다.\n",
        "- **연결 리스트(Linked List) 기반 구현**: 연결 리스트 기반 스택은 동적으로 크기가 조정되는 연결 리스트를 사용하여 구현됩니다. 각 요소는 노드로 표현되고, 노드에는 데이터와 다음 노드를 가리키는 링크가 포함됩니다. 연결 리스트 기반 스택의 공간복잡도는 O(n)입니다. 여기서 n은 스택에 저장된 요소의 개수입니다.\n",
        "- **동적 배열(Dynamic Array) 기반 구현**: 동적 배열 기반 스택은 동적으로 크기가 조정되는 배열을 사용하여 구현됩니다. 요소를 추가하거나 제거할 때 배열의 크기를 동적으로 조정할 수 있습니다. 동적 배열 기반 스택의 공간복잡도는 O(n)입니다. 동적 배열의 크기가 변경될 때마다 일시적으로 추가적인 메모리 할당 및 해제가 발생할 수 있습니다.\n",
        "- **프로그래밍 언어별 내장 스택**: 특정 프로그래밍 언어에서 스택을 내장(built-in) 자료구조로 제공합니다. 이 경우 그 공간 복잡도는 해당 언어의 스택 구현에 따라 다를 수 있습니다. 예를 들어, C++의 **`std::stack`**은 동적 배열을 기반으로 하므로, 요소를 저장하기 위한 메모리 공간을 동적으로 할당하고 해제하는 과정에서 추가적인 메모리 사용이 발생할 수 있습니다. Java의 **`java.util.Stack`**과 Python의 리스트를 활용한 스택도 마찬가지입니다. 이들은 모두 동적 배열로 구현되어 있어, 크기가 동적으로 조정됩니다. 한편, C는 스택을 내장 자료구조로 제공하지 않으므로, 직접 구현해야 합니다."
      ],
      "metadata": {
        "id": "WLNqR06vFobY"
      }
    },
    {
      "cell_type": "markdown",
      "source": [
        "# ****큐(Queue)의 개념과 특징****"
      ],
      "metadata": {
        "id": "B60aA5arFqSu"
      }
    },
    {
      "cell_type": "markdown",
      "source": [
        "## **Queue의 정의**\n",
        "\n",
        "큐(Queue)는 **줄을 서서 기다리다**, **대기열**이라는 뜻을 가지고 있습니다.\n",
        "\n",
        "큐와 유사한 예를 들어보겠습니다:\n",
        ">슈퍼마켓에서 계산을 기다리는 사람들이 줄을 서 있을 때, 먼저 줄을 선 사람이 먼저 계산을 마치고 나가는 것과 같습니다.\n",
        ">\n",
        "여기서 계산대 옆에서 줄을 서 대기하는 것이 큐이고, 사람을 데이터(data)로 비유할 수 있습니다.\n",
        "\n",
        "<br/>\n",
        "\n",
        "또 다른 유사한 예를 찾아볼 수 있습니다:\n",
        "> 명절 때 고향을 찾아가려고 많은 자동차들이 고속도로를 이용합니다. 고속도로에는 톨게이트가 있고, 자동차들은 톨게이트에 도착한 순서대로 통행료를 내고 통과합니다.\n",
        ">\n",
        "\n",
        "여기서는 톨게이트를 큐, 자동차는 데이터(data)로 비유할 수 있습니다.\n",
        "\n",
        "![image (4)](https://github.com/codestates-seb/fe-sprint-my-agora-states/assets/75019459/b3e7d9c2-152f-4b05-ab68-39b69167cf9d)\n",
        "\n",
        "<center>\n",
        "[그림] 큐는 순서대로 지나가는 자동차가 지나가는 톨게이트와 유사합니다.\n",
        "</center>\n",
        "\n",
        "<br/>\n",
        "\n",
        "이 비유에서 알 수 있듯이, **가장 먼저 톨게이트에 도착한 자동차가 가장 먼저 통과합니다.** 반대로 말하면, **가장 나중에 도착한 자동차는 앞에 도착한 모든 자동차들이 통과할 때까지 톨게이트를 통과할 수 없습니다.**"
      ],
      "metadata": {
        "id": "tO-7mTPYFrWz"
      }
    },
    {
      "cell_type": "markdown",
      "source": [
        "## **Queue의 구조**\n",
        "\n",
        "자료구조 Queue는 Stack과 반대되는 개념으로, 먼저 들어간 데이터(data)가 먼저 나오는 **FIFO(First In First Out)** 혹은 **LILO(Last In Last Out)**을 특징으로 가지고 있습니다.\n",
        "\n",
        "티켓을 사려고 줄을 서서 기다리는 모습과 흡사한 이 자료구조는 입력의 방향과 출력의 방향이 각각 고정되어 있으며, 데이터를 입력할 시에는 큐의 끝에서(rear), 데이터를 출력할 때는 큐의 맨 앞에서(front) 진행됩니다.\n",
        "\n",
        "\n",
        "여기서 Queue에 데이터를 넣는 것을 'enqueue', 데이터를 꺼내는 것을 'dequeue'라고도 하며, 자료구조 Queue는 데이터(data)가 입력된 순서대로 처리할 때 주로 사용합니다."
      ],
      "metadata": {
        "id": "0DhBTb9gFuvJ"
      }
    },
    {
      "cell_type": "markdown",
      "source": [
        "## **Queue의 특징**\n",
        "\n",
        "###1. FIFO (First In First Out)\n",
        "먼저 들어간 데이터가 제일 처음에 나오는 선입선출의 구조로 되어 있습니다.\n",
        "\n",
        "```\n",
        "예1) 1, 2, 3, 4를 큐에 차례대로 넣습니다.\n",
        "\n",
        "\t\t\t\t\t\tqueue.enqueue(데이터)\n",
        "출력 방향(front) \t<---------------------------< 입력 방향(rear)\n",
        "\t\t\t\t\t    1 <- 2 <- 3 <- 4\n",
        "\t\t\t\t  <---------------------------<\n",
        "들어간 순서대로, 1번이 제일 먼저 들어가고 4번이 마지막으로 들어가게 됩니다.\n",
        "\n",
        "예2) 큐가 빌 때까지 데이터를 전부 빼냅니다.\n",
        "\n",
        "\t\t\t\t\t\tqueue.dequeue(데이터)\n",
        "출력 방향(front)\t <---------------------------< 입력 방향(rear)\n",
        "\n",
        "\t\t\t\t  <---------------------------<\n",
        "1, 2, 3, 4\n",
        "제일 첫 번째 있는 데이터부터 차례대로 나오게 됩니다.\n",
        "```\n",
        "<br/>\n",
        "\n",
        "### 2. 두 개의 입출력 방향을 가지고 있습니다.\n",
        "Queue 자료구조는 데이터의 입력, 출력 방향이 다릅니다.\n",
        "데이터를 입력할 때는 큐의 맨 끝(rear)으로만 입력이 가능하며 데이터를 출력할 때는 큐의 맨 앞(front)으로만 출력이 가능합니다.\n",
        "즉, 큐는 데이터를 입력하는 곳과 출력하는 곳이 각각 정해져 있으며 이렇게 총 2개의 입출력 방향을 가지고 있습니다.\n",
        "만약 입출력 방향이 같다면 Queue 자료구조라고 볼 수 없습니다.\n",
        "\n",
        "<br/>\n",
        "\n",
        "### 3. 데이터는 하나씩 넣고 뺄 수 있습니다.\n",
        "앞서 말했듯, Queue 자료구조는 데이터를 넣을 때는 큐의 맨 뒷부분에서 뺄 때는 큐의 맨 앞부분에서 처리를 진행합니다. 각 처리 시마다 한 개의 데이터를 넣거나 뺄 수 있습니다.\n",
        "즉, 큐에 한 개씩 여러 번 데이터를 넣어 큐 내부에 데이터가 여러 개 쌓여 있다고 하더라도, 데이터를 뺄 때는 큐의 맨 앞에서 한 번에 한 개의 데이터만을 뺄 수 있습니다."
      ],
      "metadata": {
        "id": "j0MurZpAFv9l"
      }
    },
    {
      "cell_type": "markdown",
      "source": [
        "## **Queue 자료 구조의 이점**\n",
        "\n",
        "### **1. 데이터를 순차적으로 처리할 수 있습니다.**\n",
        "\n",
        "큐는 선입선출(First-In-First-Out, FIFO) 원칙을 따르므로, 가장 먼저 삽입된 데이터가 가장 먼저 삭제되고, 가장 나중에 삽입된 데이터는 가장 나중에 삭제됩니다. 이 특성 덕분에, 처리해야 할 데이터나 작업을 **순차적으로** 처리할 수 있습니다.\n",
        "\n",
        "큐의 가장 앞(front)에서는 가장 오래전에 삽입된 데이터가 위치하고, 가장 뒤(rear)에는 가장 최근에 삽입된 데이터가 위치합니다. 즉, **데이터를 삽입하는 순서와 삭제하는 순서가 일치하게 유지**됩니다.\n",
        "\n",
        "이런 구조는 **데이터 처리나 작업 처리에서 순서가 중요한 경우에 유용**합니다. 예를 들어, 프린터에서 인쇄 요청이 들어온 순서대로 처리해야 하는 경우, 은행에서 대기 중인 고객 순서를 결정하는 경우, 채팅 시스템에서 메시지를 보내는 순서를 결정하는 경우 등에 큐를 활용할 수 있습니다.\n",
        "\n",
        "<br/>\n",
        "\n",
        "### **2. 삽입과 삭제가 각각 양 끝에서 이루어지며 중간에 위치한 데이터를 삭제할 수 없으므로, 다른 자료 구조에 비해 상대적으로 빠른 속도를 보입니다.**\n",
        "\n",
        "큐의 삽입과 삭제는 각각 큐의 끝단에서 이루어지기 때문에, 중간에 위치한 데이터를 삭제할 수 없습니다. 이것은 배열과 같은 다른 자료 구조와 다릅니다.\n",
        "\n",
        "배열의 경우, 중간에 있는 데이터를 삭제하려면 삭제한 원소 이후의 모든 데이터를 한 칸씩 앞으로 이동시켜야 합니다. 이 때문에 중간에 위치한 데이터를 삭제한다면, 이후의 배열을 복사하고 다시 순회하며 데이터를 삽입하는 과정을 거쳐야 합니다. 삭제한 원소 뒤에 새로운 데이터를 삽입하려면 빈자리를 만들기 위해 이후의 원소들을 한 칸씩 뒤로 밀어야 하므로 삽입할 때도 전체 배열을 순회해야 합니다.\n",
        "\n",
        "반면 큐에 데이터를 삽입할 때에는 큐의 끝단에서 새로운 데이터를 추가하는 것으로 끝나며, 데이터를 삭제할 때는 큐의 첫 번째 데이터를 삭제하는 것으로 끝납니다. 따라서, 큐에서 요소를 삽입하거나 삭제할 시 단 한 번의 실행만으로 처리할 수 있습니다.\n",
        "\n",
        "이러한 이유로 큐는 삽입과 삭제가 빈번하게 일어나는 상황에서 상대적으로 빠른 속도를 보이며, 데이터나 작업을 차례대로 처리해야 하는 상황에서 효과적으로 사용될 수 있습니다."
      ],
      "metadata": {
        "id": "pswfn_y7Fxe8"
      }
    },
    {
      "cell_type": "markdown",
      "source": [
        "## **Queue 자료 구조의 한계**\n",
        "\n",
        "\n",
        "큐는 데이터를 가장 먼저 추가한 위치에서부터 차례로 데이터를 처리하며, 가장 나중에 추가된 위치에서 새로운 데이터를 추가합니다. 이러한 구조 때문에 큐는 특정 위치의 데이터를 조회하거나 수정하는 상황에는 적합하지 않습니다.\n",
        "\n",
        "즉, 큐에서는 가장 앞에서 **`dequeue()`**(**`del`** 키워드나 **`pop(0)`**)으로 데이터를 삭제하거나, 가장 뒤에서 **`enqueue()`**(**`append()`**)으로 데이터를 추가하는 것만 가능합니다. 큐는 다른 위치의 데이터에 직접 접근하여 데이터를 변경하는 연산이 불가능하며, 중간에 있는 데이터를 조회하는 것도 불가능합니다. 따라서 큐는 데이터를 순차적으로 처리하는 데 적합한 자료 구조입니다."
      ],
      "metadata": {
        "id": "VFcLSNPCF0dr"
      }
    },
    {
      "cell_type": "markdown",
      "source": [
        "## **Queue의 실제 사용 사례**\n",
        "\n",
        "큐는 컴퓨터 시스템에서 광범위하게 활용됩니다. 예를 들어, 컴퓨터와 연결된 프린터에서 여러 문서를 순서대로 인쇄하는 경우를 생각해 봅시다.\n",
        "\n",
        "1. 사용자가 문서를 작성하고 출력 버튼을 누르면 해당 문서는 임시 기억 장치인 인쇄 작업 큐에 추가됩니다.\n",
        "2. 프린터는 인쇄 작업 큐에 추가된 문서를 순서대로 인쇄합니다.\n",
        "\n",
        "> 컴퓨터(출력 버튼) - 문서가 하나씩 인쇄 작업 큐에 추가됨 - 큐에 추가된 문서를 순서대로 인쇄\n",
        ">\n",
        "\n",
        "만약 큐에 추가된 순서대로 출력하지 않는다면, 인쇄 결과물이 뒤죽박죽일 것입니다.\n",
        "\n",
        "![image (5)](https://github.com/codestates-seb/fe-sprint-my-agora-states/assets/75019459/658751a8-5d48-4cc4-93c3-b87e0baa8d85)\n",
        "\n",
        "<center>\n",
        "[그림] 인쇄 작업 큐는 큐에 들어온 문서를 순서대로 출력합니다.\n",
        "</center>\n",
        "\n",
        "위의 예시처럼, 컴퓨터 장치들 사이에서 데이터를 주고받을 때, 각 장치 사이에 존재하는 **속도의 차이나 시간 차이를 극복하기 위해 임시 저장소로서 큐를 사용합니다.** 이를 **버퍼(buffer)** 라고 합니다. 아래 이미지는 **버퍼링(buffering)** 의 개념을 보여주고 있습니다.\n",
        "\n",
        "> 대부분의 컴퓨터 장치에서 발생하는 이벤트는 불규칙적으로 발생합니다. 반면, CPU와 같이 발생한 이벤트를 처리하는 장치는 일정한 처리 속도를 갖습니다. 불규칙적으로 발생한 이벤트를 규칙적으로 처리하기 위해 버퍼(buffer)를 사용합니다.\n",
        ">\n",
        "\n",
        "![image](https://github.com/kdh-92/Tiggle/assets/58800295/69b5a30e-edb8-4132-afc2-1b27adb32cd0)\n",
        "\n",
        "\n",
        "<center>\n",
        "[그림] [그림] (왼쪽) 대부분의 컴퓨터 장치에서는 이벤트가 불규칙하게 발생합니다.\n",
        "(오른쪽) 이를 CPU에서는 규칙적으로 처리합니다.\n",
        "</center>\n",
        "\n",
        "### **컴퓨터와 프린터 간의 데이터 통신을 정리하면 아래와 같습니다.**\n",
        "\n",
        "- 일반적으로 프린터는 처리 속도가 상대적으로 느립니다.\n",
        "- 반면에, CPU는 프린터와 비교할 때 데이터를 처리하는 속도가 훨씬 빠릅니다.\n",
        "- 그래서 CPU는 **빠른 속도로 인쇄에 필요한 데이터를 생성한 후, 이를 인쇄 작업 큐에 저장하고 다른 작업을 계속 수행** 합니다.\n",
        "- 프린터는 **인쇄 작업 큐에서 데이터를 가져와 일정한 속도로 인쇄하는 작업을 수행** 합니다.\n",
        "\n",
        "또 다른 예로, 유튜브와 같은 동영상 스트리밍 앱에서 동영상을 시청하는 경우도 큐가 활용됩니다. 다운로드된 데이터가 영상을 재생하기에 충분하지 않은 경우, 큐에 데이터를 저장해두고 충분한 양의 데이터가 모일 때까지 기다린 후에 동영상을 재생합니다."
      ],
      "metadata": {
        "id": "DYj6FgYeGGQB"
      }
    },
    {
      "cell_type": "markdown",
      "source": [
        "# **큐의 기본 동작**\n",
        "\n",
        "큐는 일렬로 나열된 데이터를 가지며, Rear(뒷부분)는 새로운 요소가 삽입되는 위치를, Front(앞부분)는 요소가 제거되는 위치를 나타냅니다."
      ],
      "metadata": {
        "id": "ukv-h9ziGLqh"
      }
    },
    {
      "cell_type": "markdown",
      "source": [
        "## **`Enqueue()`**\n",
        "\n",
        "- 새로운 요소를 **큐의 가장 뒷부분(rear)에 추가**합니다.\n",
        "- 큐가 가득 차 있는 경우, 해당 작업은 실패하게 됩니다."
      ],
      "metadata": {
        "id": "Pdnc50cNGOLt"
      }
    },
    {
      "cell_type": "code",
      "source": [
        "def enqueue(queue, item):\n",
        "    queue.insert(0, item)\n",
        "\n",
        "# 사용 예\n",
        "queue = []\n",
        "enqueue(queue, \"apple\")\n",
        "enqueue(queue, \"banana\")\n",
        "enqueue(queue, \"cherry\")\n",
        "print(queue)  # ['cherry', 'banana', 'apple']\n",
        "\n",
        "# 리스트를 활용했을 경우\n",
        "queue = []\n",
        "\n",
        "queue.insert(0, 1)\n",
        "queue.insert(0, 2)\n",
        "queue.insert(0, 3)\n",
        "\n",
        "print(queue) # [3, 2, 1]"
      ],
      "metadata": {
        "id": "mIvWjQgTGPXa"
      },
      "execution_count": null,
      "outputs": []
    },
    {
      "cell_type": "markdown",
      "source": [
        "## **`Dequeue()`**\n",
        "\n",
        "- 큐의 **제일 앞부분(front)에 위치한 요소를 제거**하고 반환합니다.\n",
        "- 큐가 비어있는 경우, 해당 작업은 실패하게 됩니다."
      ],
      "metadata": {
        "id": "VgLavhnaGRPj"
      }
    },
    {
      "cell_type": "code",
      "source": [
        "def dequeue(queue):\n",
        "    if not queue:\n",
        "        return \"Queue is empty.\"\n",
        "    else:\n",
        "        return queue.pop(0)\n",
        "\n",
        "# 사용 예\n",
        "queue = [\"apple\", \"banana\", \"cherry\"]\n",
        "print(dequeue(queue))  # 'apple'\n",
        "print(queue)  # ['banana', 'cherry']\n",
        "\n",
        "# 리스트를 활용했을 경우\n",
        "queue = [1, 2, 3]\n",
        "\n",
        "queue.pop(0)\n",
        "print(queue) # [2, 3]\n",
        "\n",
        "queue.pop(0)\n",
        "print(queue) # [3]"
      ],
      "metadata": {
        "id": "yxaQ0C0HGSRU"
      },
      "execution_count": null,
      "outputs": []
    },
    {
      "cell_type": "markdown",
      "source": [
        "## **`Peek()`**\n",
        "\n",
        "- 큐의 **앞부분(front)에 위치한 요소를 반환**합니다.\n",
        "- 조회 연산을 수행하더라도 **큐에서 요소가 제거되지 않습니다.**\n",
        "- 큐의 가장 앞(front)에 위치한 요소를 확인할 수 있습니다."
      ],
      "metadata": {
        "id": "tdwzoCZSGTj3"
      }
    },
    {
      "cell_type": "code",
      "source": [
        "def peek(queue):\n",
        "    if not queue:\n",
        "        return \"Queue is empty.\"\n",
        "    else:\n",
        "        return queue[0]\n",
        "\n",
        "# 사용 예\n",
        "queue = [\"apple\", \"banana\", \"cherry\"]\n",
        "print(peek(queue))  # 'apple'\n",
        "\n",
        "# 리스트를 활용했을 경우\n",
        "queue = [1, 2, 3]\n",
        "\n",
        "peek = queue[0]\n",
        "print(peek) # 1\n",
        "\n",
        "queue.pop(0)\n",
        "\n",
        "peek = queue[0]\n",
        "print(peek) # 2\n"
      ],
      "metadata": {
        "id": "tHR8YwK7GVRw"
      },
      "execution_count": null,
      "outputs": []
    },
    {
      "cell_type": "markdown",
      "source": [
        "## **`IsEmpty`**\n",
        "\n",
        "- 큐가 비어있는지 확인하는 작업입니다.\n",
        "- 큐가 **비어있으면 true를 반환**하고, **비어있지 않으면 false를 반환**합니다.\n",
        "- 큐가 비어있는지 여부를 확인하여 추가적인 조치를 취할 수 있습니다."
      ],
      "metadata": {
        "id": "C-SouM4-GXDf"
      }
    },
    {
      "cell_type": "code",
      "source": [
        "def isEmpty(queue):\n",
        "    return len(queue) == 0\n",
        "\n",
        "# 사용 예\n",
        "queue = [\"apple\", \"banana\", \"cherry\"]\n",
        "print(isEmpty(queue))  # False\n",
        "queue = []\n",
        "print(isEmpty(queue))  # True\n",
        "\n",
        "# 리스트만 활용했을 경우\n",
        "queue = [1, 2, 3]\n",
        "isEmpty = False;\n",
        "\n",
        "if len(stack) == 0:\n",
        "\t\tisEmpty = True\n",
        "else:\n",
        "\t\tisEmpty = False\n",
        "\n",
        "print(isEmpty) # False"
      ],
      "metadata": {
        "id": "HaxmofojGXwH"
      },
      "execution_count": null,
      "outputs": []
    },
    {
      "cell_type": "markdown",
      "source": [
        "# ****큐의 시간 복잡도와 공간 복잡도****"
      ],
      "metadata": {
        "id": "t5yYG8_8GZH3"
      }
    },
    {
      "cell_type": "markdown",
      "source": [
        "## **큐의 `시간복잡도(Time Complexity)`**\n",
        "\n",
        "- **`Enqueue(삽입)`** 연산: O(1)\n",
        "    - 큐의 맨 뒤(rear)에 데이터를 삽입하는 연산입니다.\n",
        "    - 배열을 사용한 구현에서는 데이터를 삽입할 위치를 기억하는 변수(rear)를 증가시키는 것으로 수행됩니다.\n",
        "    - 연결 리스트를 사용한 구현에서는 리스트의 맨 뒤에 노드를 추가하는 연산으로 수행됩니다.\n",
        "    - 어떤 경우에도 데이터를 삽입하는 데에는 상수 시간이 소요됩니다.\n",
        "- **`Dequeue(삭제)`** 연산: O(1)\n",
        "    - 큐의 맨 앞(front)에서 데이터를 제거하는 연산입니다.\n",
        "    - 배열을 사용한 구현에서는 데이터를 제거할 위치를 기억하는 변수(front)를 1 증가시키는 것으로 수행됩니다.\n",
        "    - 연결 리스트를 사용한 구현에서는 리스트의 맨 앞에서 노드를 제거하는 연산으로 수행됩니다.\n",
        "    - 어떤 상황에서도 데이터를 제거하는 데에는 상수 시간이 소요됩니다.\n",
        "- **`Peek(조회)`** 연산: O(1)\n",
        "    - 큐의 맨 앞(front)에서 데이터를 조회하는 연산입니다.\n",
        "    - 배열이나 연결 리스트에서는 맨 앞의 데이터에 접근하는 것이 간단하므로 상수 시간에 수행됩니다.\n",
        "    - 데이터를 제거하지 않고 조회하는 연산이므로 큐의 크기에 영향을 주지 않습니다."
      ],
      "metadata": {
        "id": "dIXkxRKeGaj9"
      }
    },
    {
      "cell_type": "markdown",
      "source": [
        "## **큐의 `공간복잡도(Space Complexity)`**\n",
        "\n",
        "- 큐의 공간 복잡도는 큐에 저장되는 데이터의 개수에 비례합니다.\n",
        "- 배열을 사용한 구현에서는 배열 혹은 리스트의 크기가 큐의 최대 크기를 결정하므로 O(N)입니다. (N은 큐에 저장되는 데이터의 개수)\n",
        "- 연결 리스트를 사용한 구현에서는 필요한 만큼의 노드를 동적으로 생성하므로 실제 데이터 개수에 따라 공간이 사용됩니다. 따라서 최대 O(N)입니다."
      ],
      "metadata": {
        "id": "KjtcrCkaGbp7"
      }
    },
    {
      "cell_type": "markdown",
      "source": [
        "# 스택과 큐의 비교"
      ],
      "metadata": {
        "id": "50gOivL8Gj-L"
      }
    },
    {
      "cell_type": "markdown",
      "source": [
        "## **스택과 큐의 공통점**\n",
        "\n",
        "스택과 큐 모두 선형 자료구조로, 순차적으로 데이터를 저장하고 조작합니다. 둘 다 데이터의 추가와 제거를 통해 동작하며, 데이터를 임시로 저장하는 데 사용되는 경우가 많습니다."
      ],
      "metadata": {
        "id": "AKBl1d61Gm-o"
      }
    },
    {
      "cell_type": "markdown",
      "source": [
        "## **스택과 큐의 차이점**\n",
        "\n",
        "스택과 큐의 주요 차이점은 데이터의 추가와 제거 방식입니다. 스택에서는 데이터의 추가와 제거가 같은 곳에서 이루어지는 반면, 큐에서는 데이터의 추가가 한 쪽 끝에서, 제거가 반대 쪽 끝에서 이루어집니다."
      ],
      "metadata": {
        "id": "2a4_bZFbGoml"
      }
    },
    {
      "cell_type": "markdown",
      "source": [
        "## **활용 예시와 특성 비교**"
      ],
      "metadata": {
        "id": "eQpEVCNqGpxc"
      }
    },
    {
      "cell_type": "markdown",
      "source": [
        "### **스택**\n",
        "\n",
        "스택은 함수 호출, 후위 표기법 계산, 웹 브라우저의 뒤로 가기 기능 등에서 사용됩니다. 스택은 후입선출 구조를 가지므로, 가장 마지막에 저장된 데이터를 가장 먼저 사용해야 하는 상황에서 유용합니다."
      ],
      "metadata": {
        "id": "5k1y29ZlGq6y"
      }
    },
    {
      "cell_type": "code",
      "source": [
        "# 스택의 예시 - 함수 호출\n",
        "def first_function():\n",
        "    second_function()\n",
        "    print(\"I am the first function\")\n",
        "\n",
        "def second_function():\n",
        "    third_function()\n",
        "    print(\"I am the second function\")\n",
        "\n",
        "def third_function():\n",
        "    print(\"I am the third function\")\n",
        "\n",
        "first_function()\n",
        "\n",
        "# Output:\n",
        "# I am the third function\n",
        "# I am the second function\n",
        "# I am the first function\n",
        "\n"
      ],
      "metadata": {
        "id": "QBZUyfJpGruO"
      },
      "execution_count": null,
      "outputs": []
    },
    {
      "cell_type": "markdown",
      "source": [
        "### **큐**\n",
        "\n",
        "큐는 인쇄 대기열, 운영 체제의 프로세스 스케줄링, 너비 우선 탐색(BFS) 등에서 사용됩니다. 큐는 선입선출 구조를 가지므로, 데이터를 순차적으로 처리해야 하는 상황에서 유용합니다."
      ],
      "metadata": {
        "id": "Gtp94xDcGsx8"
      }
    },
    {
      "cell_type": "code",
      "source": [
        "# 큐의 예시 - 인쇄 대기열\n",
        "from collections import deque\n",
        "\n",
        "queue = deque()\n",
        "\n",
        "queue.append('Document1')\n",
        "queue.append('Document2')\n",
        "queue.append('Document3')\n",
        "\n",
        "print(queue) # deque(['Document1', 'Document2', 'Document3'])\n",
        "\n",
        "queue.popleft()\n",
        "print(queue) # deque(['Document2', 'Document3'])"
      ],
      "metadata": {
        "id": "kcsTix9NGuXU"
      },
      "execution_count": null,
      "outputs": []
    }
  ]
}